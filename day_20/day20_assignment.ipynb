{
 "cells": [
  {
   "cell_type": "markdown",
   "metadata": {},
   "source": []
  },
  {
   "cell_type": "code",
   "execution_count": 14,
   "metadata": {},
   "outputs": [
    {
     "ename": "ModuleNotFoundError",
     "evalue": "No module named 'requests'",
     "output_type": "error",
     "traceback": [
      "\u001b[0;31m---------------------------------------------------------------------------\u001b[0m",
      "\u001b[0;31mModuleNotFoundError\u001b[0m                       Traceback (most recent call last)",
      "Cell \u001b[0;32mIn[14], line 1\u001b[0m\n\u001b[0;32m----> 1\u001b[0m \u001b[39mimport\u001b[39;00m \u001b[39mrequests\u001b[39;00m\n\u001b[1;32m      2\u001b[0m \u001b[39mfrom\u001b[39;00m \u001b[39mcollections\u001b[39;00m \u001b[39mimport\u001b[39;00m Counter\n\u001b[1;32m      3\u001b[0m \u001b[39mimport\u001b[39;00m \u001b[39mre\u001b[39;00m\n",
      "\u001b[0;31mModuleNotFoundError\u001b[0m: No module named 'requests'"
     ]
    }
   ],
   "source": [
    "import requests\n",
    "from collections import Counter\n",
    "import re\n",
    "\n",
    "# Function to clean text\n",
    "def clean_text(text):\n",
    "    cleaned_text = re.sub(r'[^a-zA-Z\\s]', '', text).lower()\n",
    "    return cleaned_text\n",
    "\n",
    "# Function to find most common words\n",
    "def find_most_common_words(text, n):\n",
    "    words = text.split()\n",
    "    word_counts = Counter(words)\n",
    "    most_common_words = word_counts.most_common(n)\n",
    "    return most_common_words\n",
    "\n",
    "# URL of Romeo and Juliet\n",
    "romeo_and_juliet_url = 'http://www.gutenberg.org/files/1112/1112-0.txt'\n",
    "\n",
    "# Fetch content from the URL\n",
    "response = requests.get(romeo_and_juliet_url)\n",
    "\n",
    "if response.status_code == 200:\n",
    "    # Extract text content\n",
    "    text_content = response.text\n",
    "\n",
    "    # Clean the text\n",
    "    cleaned_text = clean_text(text_content)\n",
    "\n",
    "    # Find the 10 most frequent words\n",
    "    frequent_words = find_most_common_words(cleaned_text, 10)\n",
    "\n",
    "    # Print the result\n",
    "    print(\"10 Most Frequent Words in Romeo and Juliet:\")\n",
    "    print(frequent_words)\n",
    "\n",
    "else:\n",
    "    print(f\"Failed to fetch content from the URL. Status code: {response.status_code}\")\n"
   ]
  }
 ],
 "metadata": {
  "kernelspec": {
   "display_name": "adsatesting",
   "language": "python",
   "name": "python3"
  },
  "language_info": {
   "codemirror_mode": {
    "name": "ipython",
    "version": 3
   },
   "file_extension": ".py",
   "mimetype": "text/x-python",
   "name": "python",
   "nbconvert_exporter": "python",
   "pygments_lexer": "ipython3",
   "version": "3.10.13"
  },
  "orig_nbformat": 4
 },
 "nbformat": 4,
 "nbformat_minor": 2
}
