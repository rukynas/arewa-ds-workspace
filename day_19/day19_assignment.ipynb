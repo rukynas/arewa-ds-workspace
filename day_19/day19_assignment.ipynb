{
 "cells": [
  {
   "cell_type": "markdown",
   "metadata": {},
   "source": [
    "### Exercises: Day 19\n",
    "\n",
    "#### Exercises: Level 1\n",
    "\n",
    "1. Write a function which count number of lines and number of words in a text. All the files are in the data the folder: \n",
    "   \n",
    "   a) Read obama_speech.txt file and count number of lines and words  \n",
    "   b) Read michelle_obama_speech.txt file and count number of lines and words   \n",
    "   c) Read donald_speech.txt file and count number of lines and words   \n",
    "   d) Read melina_trump_speech.txt file and count number of lines and words  "
   ]
  },
  {
   "cell_type": "code",
   "execution_count": null,
   "metadata": {},
   "outputs": [],
   "source": []
  },
  {
   "cell_type": "markdown",
   "metadata": {},
   "source": []
  },
  {
   "cell_type": "code",
   "execution_count": null,
   "metadata": {},
   "outputs": [],
   "source": []
  }
 ],
 "metadata": {
  "kernelspec": {
   "display_name": "adsatesting",
   "language": "python",
   "name": "python3"
  },
  "language_info": {
   "name": "python",
   "version": "3.10.13"
  },
  "orig_nbformat": 4
 },
 "nbformat": 4,
 "nbformat_minor": 2
}
