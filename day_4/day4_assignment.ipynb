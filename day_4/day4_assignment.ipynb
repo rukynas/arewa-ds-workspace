{
 "cells": [
  {
   "cell_type": "markdown",
   "metadata": {},
   "source": [
    "### DAY 4 EXERCISES"
   ]
  },
  {
   "cell_type": "markdown",
   "metadata": {},
   "source": [
    "1. Concatenate the string 'Thirty', 'Days', 'Of', 'Python' to a single string, 'Thirty Days Of Python'."
   ]
  },
  {
   "cell_type": "code",
   "execution_count": 1,
   "metadata": {},
   "outputs": [
    {
     "name": "stdout",
     "output_type": "stream",
     "text": [
      "Thirty Days Of Python\n"
     ]
    }
   ],
   "source": [
    "result = 'Thirty' + ' ' + 'Days' + ' ' + 'Of' + ' ' + 'Python'\n",
    "\n",
    "# Display the result\n",
    "print(result)\n"
   ]
  },
  {
   "cell_type": "markdown",
   "metadata": {},
   "source": [
    "2. Concatenate the string 'Coding', 'For' , 'All' to a single string, 'Coding For All'"
   ]
  },
  {
   "cell_type": "code",
   "execution_count": null,
   "metadata": {},
   "outputs": [],
   "source": [
    "result = 'Coding' + ' ' + 'For' + ' ' + 'All'\n",
    "\n",
    "# Display the result\n",
    "print(result)\n"
   ]
  },
  {
   "cell_type": "markdown",
   "metadata": {},
   "source": [
    "Q3 - Q7\n",
    "Declare a variable named company and assign it to an initial value \"Coding For All\".\n",
    "Print the variable company using print().\n",
    "Print the length of the company string using len() method and print().\n",
    "Change all the characters to uppercase letters using upper() method.\n",
    "Change all the characters to lowercase letters using lower() method"
   ]
  },
  {
   "cell_type": "code",
   "execution_count": 2,
   "metadata": {},
   "outputs": [
    {
     "name": "stdout",
     "output_type": "stream",
     "text": [
      "Company: Coding For All\n",
      "Length of company is  14\n",
      "Uppercase of company:  CODING FOR ALL\n",
      "Lowercase of company:  coding for all\n"
     ]
    }
   ],
   "source": [
    "# Declare the variable company and assign an initial value\n",
    "company = \"Coding For All\"\n",
    "\n",
    "# Print the variable company\n",
    "print(\"Company:\", company)\n",
    "\n",
    "# Print the length of the company string\n",
    "print(\"Length of company is \", len(company))\n",
    "\n",
    "# Change all characters to uppercase\n",
    "company_upper = company.upper()\n",
    "print(\"Uppercase of company: \", company_upper)\n",
    "\n",
    "# Change all characters to lowercase\n",
    "company_lower = company.lower()\n",
    "print(\"Lowercase of company: \", company_lower)\n"
   ]
  },
  {
   "cell_type": "markdown",
   "metadata": {},
   "source": [
    "Q8. Use capitalize(), title(), swapcase() methods to format the value of the string Coding For All."
   ]
  },
  {
   "cell_type": "code",
   "execution_count": 3,
   "metadata": {},
   "outputs": [
    {
     "name": "stdout",
     "output_type": "stream",
     "text": [
      "Original String: Coding For All\n",
      "Capitalized String: Coding for all\n",
      "Title Case String: Coding For All\n",
      "Swapped Case String: cODING fOR aLL\n"
     ]
    }
   ],
   "source": [
    "company = \"Coding For All\"\n",
    "\n",
    "# Use capitalize(), title(), swapcase()\n",
    "capitalized_string = company.capitalize()\n",
    "title_case_string = company.title()\n",
    "swapped_case_string = company.swapcase()\n",
    "\n",
    "# Display the result of the strings\n",
    "print(\"Original String:\", company)\n",
    "print(\"Capitalized String:\", capitalized_string)\n",
    "print(\"Title Case String:\", title_case_string)\n",
    "print(\"Swapped Case String:\", swapped_case_string)"
   ]
  },
  {
   "cell_type": "markdown",
   "metadata": {},
   "source": [
    "Q9. Cut(slice) out the first word of Coding For All string.\n",
    "Q10. Check if Coding For All string contains a word Coding using the method index, find or other methods."
   ]
  },
  {
   "cell_type": "code",
   "execution_count": 4,
   "metadata": {},
   "outputs": [
    {
     "name": "stdout",
     "output_type": "stream",
     "text": [
      "Cut String (without the first word): For All\n",
      "String contains the word 'Coding': True\n"
     ]
    }
   ],
   "source": [
    "intial_string = \"Coding For All\"\n",
    "\n",
    "# Cut out the first word\n",
    "cut_string = intial_string.split(' ', 1)[1]\n",
    "\n",
    "# print output\n",
    "print(\"Cut String (without the first word):\", cut_string)\n",
    "\n",
    "contains_coding = 'Coding' in intial_string\n",
    "\n",
    "# Display the result\n",
    "print(f\"String contains the word 'Coding': {contains_coding}\")"
   ]
  },
  {
   "cell_type": "markdown",
   "metadata": {},
   "source": [
    "Q11. Replace the word coding in the string 'Coding For All' to Python.\n",
    "Q12. Change Python for Everyone to Python for All using the replace method or other methods."
   ]
  },
  {
   "cell_type": "code",
   "execution_count": 5,
   "metadata": {},
   "outputs": [
    {
     "name": "stdout",
     "output_type": "stream",
     "text": [
      "String after replacing 'Coding' with 'Python': Python For All\n",
      "String after changing 'Everyone' to 'All': Python for All\n"
     ]
    }
   ],
   "source": [
    "string1 = \"Coding For All\"\n",
    "string2 = \"Python for Everyone\"\n",
    "\n",
    "# Replace 'Coding' with 'Python'\n",
    "string1_new = string1.replace(\"Coding\", \"Python\")\n",
    "\n",
    "print(\"String after replacing 'Coding' with 'Python':\", string1_new)\n",
    "\n",
    "# Change 'Python for Everyone' to 'Python for All'\n",
    "string2_new = string2.replace(\"Everyone\", \"All\")\n",
    "\n",
    "print(\"String after changing 'Everyone' to 'All':\", string2_new)\n"
   ]
  },
  {
   "cell_type": "markdown",
   "metadata": {},
   "source": [
    "Q13. Split the string 'Coding For All' using space as the separator (split())   \n",
    "Q14. \"Facebook, Google, Microsoft, Apple, IBM, Oracle, Amazon\" split the string at the comma.\n"
   ]
  },
  {
   "cell_type": "code",
   "execution_count": 6,
   "metadata": {},
   "outputs": [
    {
     "name": "stdout",
     "output_type": "stream",
     "text": [
      "Split result for 'Coding For All': ['Coding', 'For', 'All']\n",
      "Split result for 'Facebook, Google, Microsoft, Apple, IBM, Oracle, Amazon': ['Facebook', 'Google', 'Microsoft', 'Apple', 'IBM', 'Oracle', 'Amazon']\n"
     ]
    }
   ],
   "source": [
    "# Split string and assign to new variable\n",
    "string1 = \"Coding For All\"\n",
    "split_string1 = string1.split()\n",
    "\n",
    "# print the result\n",
    "print(\"Split result for 'Coding For All':\", split_string1)\n",
    "\n",
    "# Split the string at the comma\n",
    "string2 = \"Facebook, Google, Microsoft, Apple, IBM, Oracle, Amazon\"\n",
    "split_string2 = string2.split(', ')\n",
    "\n",
    "# Display the result\n",
    "print(\"Split result for 'Facebook, Google, Microsoft, Apple, IBM, Oracle, Amazon':\", split_string2)\n"
   ]
  },
  {
   "cell_type": "markdown",
   "metadata": {},
   "source": [
    "Q15. What is the character at index 0 in the string Coding For All.  \n",
    "Q16. What is the last index of the string Coding For All.  \n",
    "Q17. What character is at index 10 in \"Coding For All\" string.  "
   ]
  },
  {
   "cell_type": "code",
   "execution_count": 9,
   "metadata": {},
   "outputs": [
    {
     "name": "stdout",
     "output_type": "stream",
     "text": [
      "Character at index 0 is C\n",
      "Last index of the string is 13\n",
      "Character at index 10 is  \n"
     ]
    }
   ],
   "source": [
    "string1 = \"Coding For All\"\n",
    "\n",
    "# Character at index 0\n",
    "char_at_index_0 = string1[0]\n",
    "\n",
    "# Last index of the string\n",
    "last_index = len(string1) - 1\n",
    "\n",
    "# Character at index 10\n",
    "char_at_index_10 = string1[10]\n",
    "\n",
    "# Display the results\n",
    "print(f\"Character at index 0 is {char_at_index_0}\")\n",
    "print(f\"Last index of the string is {last_index}\")\n",
    "print(f\"Character at index 10 is {char_at_index_10}\")\n",
    "# character at index 10 is space that is why nothing was generated\n"
   ]
  },
  {
   "cell_type": "markdown",
   "metadata": {},
   "source": [
    "Q18. Create an acronym or an abbreviation for the name 'Python For Everyone'.  \n",
    "Q19. Create an acronym or an abbreviation for the name 'Coding For All'."
   ]
  },
  {
   "cell_type": "code",
   "execution_count": 12,
   "metadata": {},
   "outputs": [
    {
     "name": "stdout",
     "output_type": "stream",
     "text": [
      "Acronym for 'Python For Everyone': P4E\n",
      "Acronym for 'Coding For All': C4A\n"
     ]
    }
   ],
   "source": [
    "# use index for postion, upper to make it uppercase and + sign to concatenate\n",
    "name1 = \"Python For Everyone\"\n",
    "acronym1 = name1[0].upper() + \"4\" + name1.split(\" \")[-1][0].upper()\n",
    "\n",
    "# splits the sentence and takes the first letter of the last index \n",
    "name2 = \"Coding For All\"\n",
    "acronym2 = name2[0].upper() + \"4\" + name2.split(\" \")[-1][0].upper()\n",
    "\n",
    "# Display the output\n",
    "print(\"Acronym for 'Python For Everyone':\", acronym1)\n",
    "print(\"Acronym for 'Coding For All':\", acronym2)\n"
   ]
  },
  {
   "cell_type": "markdown",
   "metadata": {},
   "source": [
    "Q20. Use index to determine the position of the first occurrence of C in Coding For All.  \n",
    "Q21. Use index to determine the position of the first occurrence of F in Coding For All.  "
   ]
  },
  {
   "cell_type": "code",
   "execution_count": 14,
   "metadata": {},
   "outputs": [
    {
     "name": "stdout",
     "output_type": "stream",
     "text": [
      "Position of the first occurrence of 'C' is 0\n",
      "Position of the first occurrence of 'F' is 7\n"
     ]
    }
   ],
   "source": [
    "\n",
    "text = \"Coding For All\"\n",
    "\n",
    "# Use index to find the position of the first occurrence of 'C'\n",
    "position_of_C = text.index('C')\n",
    "\n",
    "# Use index to find the position of the first occurrence of 'F'\n",
    "position_of_F = text.index('F')\n",
    "\n",
    "# Print the results\n",
    "print(f\"Position of the first occurrence of 'C' is {position_of_C}\")\n",
    "print(f\"Position of the first occurrence of 'F' is {position_of_F}\")\n"
   ]
  },
  {
   "cell_type": "markdown",
   "metadata": {},
   "source": [
    "Q22. Use rfind to determine the position of the last occurrence of l in Coding For All People."
   ]
  },
  {
   "cell_type": "code",
   "execution_count": 15,
   "metadata": {},
   "outputs": [
    {
     "name": "stdout",
     "output_type": "stream",
     "text": [
      "19\n"
     ]
    }
   ],
   "source": [
    "text = \"Coding For All People\"\n",
    "\n",
    "# print output\n",
    "print(text.rfind('l')) "
   ]
  },
  {
   "cell_type": "markdown",
   "metadata": {},
   "source": [
    "Q23. Use index or find to find the position of the first occurrence of the word 'because' in the following sentence: 'You cannot end a sentence with because because because is a conjunction'"
   ]
  },
  {
   "cell_type": "code",
   "execution_count": 16,
   "metadata": {},
   "outputs": [
    {
     "name": "stdout",
     "output_type": "stream",
     "text": [
      "The position of the first occurence of because is  31\n"
     ]
    }
   ],
   "source": [
    "text = \"You cannot end a sentence with because because because is a conjunction\"\n",
    "\n",
    "# find the index of the first occurence of the word 'because'\n",
    "position_of_because = text.index(\"because\")\n",
    "\n",
    "print(\"The position of the first occurence of because is \", position_of_because)"
   ]
  },
  {
   "cell_type": "markdown",
   "metadata": {},
   "source": [
    "Q24. Use rindex to find the position of the last occurrence of the word because in the following sentence: 'You cannot end a sentence with because because because is a conjunction'"
   ]
  },
  {
   "cell_type": "code",
   "execution_count": 18,
   "metadata": {},
   "outputs": [
    {
     "name": "stdout",
     "output_type": "stream",
     "text": [
      "The position of the last occurence of because is  47\n"
     ]
    }
   ],
   "source": [
    "text = \"You cannot end a sentence with because because because is a conjunction\"\n",
    "\n",
    "# find the index of the last occurence of the word 'because'\n",
    "position_of_because = text.rindex(\"because\")\n",
    "\n",
    "print(\"The position of the last occurence of because is \", position_of_because)"
   ]
  },
  {
   "cell_type": "markdown",
   "metadata": {},
   "source": [
    "Q25. Slice out the phrase 'because because because' in the following sentence: 'You cannot end a sentence with because because because is a conjunction'"
   ]
  },
  {
   "cell_type": "code",
   "execution_count": 19,
   "metadata": {},
   "outputs": [
    {
     "name": "stdout",
     "output_type": "stream",
     "text": [
      "because because because\n"
     ]
    }
   ],
   "source": [
    "sentence = 'You cannot end a sentence with because because because is a conjunction'\n",
    "\n",
    "# Find the starting and ending positions of the desired phrase\n",
    "start_position = sentence.find('because')\n",
    "end_position = sentence.rfind('because') + len('because')\n",
    "\n",
    "# Slice out the phrase\n",
    "phrase = sentence[start_position:end_position]\n",
    "\n",
    "# Print the result\n",
    "print(phrase)\n"
   ]
  },
  {
   "cell_type": "markdown",
   "metadata": {},
   "source": [
    "Q26. Find the position of the first occurrence of the word 'because' in the following sentence: 'You cannot end a sentence with because because because is a conjunction'\n",
    "\n",
    "THIS IS SIMILAR TO Q23"
   ]
  },
  {
   "cell_type": "code",
   "execution_count": 20,
   "metadata": {},
   "outputs": [
    {
     "name": "stdout",
     "output_type": "stream",
     "text": [
      "The position of the first occurence of because is  31\n"
     ]
    }
   ],
   "source": [
    "text = \"You cannot end a sentence with because because because is a conjunction\"\n",
    "\n",
    "# find the index of the first occurence of the word 'because'\n",
    "position_of_because = text.index(\"because\")\n",
    "\n",
    "print(\"The position of the first occurence of because is \", position_of_because)"
   ]
  },
  {
   "cell_type": "markdown",
   "metadata": {},
   "source": [
    "Q25 IS SIMILAR TO Q27"
   ]
  },
  {
   "cell_type": "markdown",
   "metadata": {},
   "source": [
    "Q28. Does ''Coding For All' start with a substring Coding?  \n",
    "Q29. Does 'Coding For All' end with a substring coding?  \n",
    "Q30. '   Coding For All      '  , remove the left and right trailing spaces in the given string.  "
   ]
  },
  {
   "cell_type": "code",
   "execution_count": 24,
   "metadata": {},
   "outputs": [
    {
     "name": "stdout",
     "output_type": "stream",
     "text": [
      "Does 'Coding For All' start with 'Coding'? True\n",
      "Does 'Coding For All' end with 'coding'? False\n",
      "Trimmed string:  Coding For All\n"
     ]
    }
   ],
   "source": [
    "# Check if 'Coding For All' starts with the substring 'Coding'\n",
    "starts_with_coding = 'Coding For All'.startswith('Coding')\n",
    "\n",
    "# Check if 'Coding For All' ends with the substring 'coding'\n",
    "ends_with_coding = 'Coding For All'.endswith('coding')\n",
    "\n",
    "# Print the results\n",
    "print(f\"Does 'Coding For All' start with 'Coding'? {starts_with_coding}\")\n",
    "print(f\"Does 'Coding For All' end with 'coding'? {ends_with_coding}\")\n",
    "\n",
    "# Remove trailing spaces using .strip() and print output\n",
    "print(\"Trimmed string: \", '   Coding For All      '.strip())\n"
   ]
  },
  {
   "cell_type": "markdown",
   "metadata": {},
   "source": [
    "Q31. Which one of the following variables return True when we use the method isidentifier():  \n",
    "30DaysOfPython  \n",
    "thirty_days_of_python"
   ]
  },
  {
   "cell_type": "code",
   "execution_count": 26,
   "metadata": {},
   "outputs": [
    {
     "name": "stdout",
     "output_type": "stream",
     "text": [
      "Is '30DaysOfPython' a valid identifier? False\n",
      "Is 'thirty_days_of_python' a valid identifier? True\n"
     ]
    }
   ],
   "source": [
    "# Check if '30DaysOfPython' is a valid identifier\n",
    "text1 = '30DaysOfPython'.isidentifier()\n",
    "\n",
    "# Check if 'thirty_days_of_python' is a valid identifier\n",
    "text2 = 'thirty_days_of_python'.isidentifier()\n",
    "\n",
    "# Print the results, results return either true or false\n",
    "print(f\"Is '30DaysOfPython' a valid identifier? {text1}\")\n",
    "print(f\"Is 'thirty_days_of_python' a valid identifier? {text2}\")\n"
   ]
  },
  {
   "cell_type": "markdown",
   "metadata": {},
   "source": [
    "Q32. The following list contains the names of some of python libraries: ['Django', 'Flask', 'Bottle', 'Pyramid', 'Falcon']. Join the list with a hash with space string."
   ]
  },
  {
   "cell_type": "code",
   "execution_count": 27,
   "metadata": {},
   "outputs": [
    {
     "name": "stdout",
     "output_type": "stream",
     "text": [
      "Django # Flask # Bottle # Pyramid # Falcon\n"
     ]
    }
   ],
   "source": [
    "# List of Python libraries\n",
    "python_libraries = ['Django', 'Flask', 'Bottle', 'Pyramid', 'Falcon']\n",
    "\n",
    "# use join function for this with a hash and space string\n",
    "joined_libraries = ' # '.join(python_libraries)\n",
    "\n",
    "# Print the result\n",
    "print(joined_libraries)\n"
   ]
  },
  {
   "cell_type": "markdown",
   "metadata": {},
   "source": [
    "Q33. Use the new line escape sequence to separate the following sentences.  \n",
    "I am enjoying this challenge.  \n",
    "I just wonder what is next."
   ]
  },
  {
   "cell_type": "code",
   "execution_count": 29,
   "metadata": {},
   "outputs": [
    {
     "name": "stdout",
     "output_type": "stream",
     "text": [
      "I am enjoying this challenge. \n",
      " I just wonder what is next.\n"
     ]
    }
   ],
   "source": [
    "# use the \\n for the new line\n",
    "print(\"I am enjoying this challenge. \\n I just wonder what is next.\")"
   ]
  },
  {
   "cell_type": "markdown",
   "metadata": {},
   "source": [
    "Q34. Use a tab escape sequence to write the following lines"
   ]
  },
  {
   "cell_type": "code",
   "execution_count": 31,
   "metadata": {},
   "outputs": [
    {
     "name": "stdout",
     "output_type": "stream",
     "text": [
      "Name \t\tAge \tCountry \tCity\n",
      "Asabeneh \t250 \tFinland \tHelsinki\n"
     ]
    }
   ],
   "source": [
    "#Use the \\t for the tabs and print the output\n",
    "print(\"Name \\t\\tAge \\tCountry \\tCity\")\n",
    "print(\"Asabeneh \\t250 \\tFinland \\tHelsinki\")"
   ]
  },
  {
   "cell_type": "markdown",
   "metadata": {},
   "source": [
    "Q35. Use the string formatting method to display the following:  \n",
    "radius = 10  \n",
    "area = 3.14 * radius ** 2  \n",
    "The area of a circle with radius 10 is 314 meters square.  "
   ]
  },
  {
   "cell_type": "code",
   "execution_count": 32,
   "metadata": {},
   "outputs": [
    {
     "name": "stdout",
     "output_type": "stream",
     "text": [
      "The area of a circle with radius 10 is 314.0 meters square.\n"
     ]
    }
   ],
   "source": [
    "# define the variables\n",
    "radius = 10  \n",
    "area = 3.14 * radius ** 2  \n",
    "\n",
    "#print the output with string formatting\n",
    "print(\"The area of a circle with radius {} is {} meters square.\".format(str(radius), str(area)))"
   ]
  },
  {
   "cell_type": "markdown",
   "metadata": {},
   "source": [
    "Make the following using string formatting methods:  \n",
    "8 + 6 = 14  \n",
    "8 - 6 = 2  \n",
    "8 * 6 = 48  \n",
    "8 / 6 = 1.33  \n",
    "8 % 6 = 2  \n",
    "8 // 6 = 1  \n",
    "8 ** 6 = 262144  "
   ]
  },
  {
   "cell_type": "code",
   "execution_count": null,
   "metadata": {},
   "outputs": [],
   "source": [
    "# Perform arithmetic operations\n",
    "addition = 8 + 6\n",
    "subtraction = 8 - 6\n",
    "multiplication = 8 * 6\n",
    "division = 8 / 6\n",
    "modulo = 8 % 6\n",
    "floor_division = 8 // 6\n",
    "exponentiation = 8 ** 6\n",
    "\n",
    "# Format the output strings\n",
    "output_addition = \"{} + {} = {}\".format(8, 6, addition)\n",
    "output_subtraction = \"{} - {} = {}\".format(8, 6, subtraction)\n",
    "output_multiplication = \"{} * {} = {}\".format(8, 6, multiplication)\n",
    "output_division = \"{} / {} = {:.2f}\".format(8, 6, division)\n",
    "output_modulo = \"{} % {} = {}\".format(8, 6, modulo)\n",
    "output_floor_division = \"{} // {} = {}\".format(8, 6, floor_division)\n",
    "output_exponentiation = \"{} ** {} = {}\".format(8, 6, exponentiation)\n",
    "\n",
    "# Print the results\n",
    "print(output_addition)\n",
    "print(output_subtraction)\n",
    "print(output_multiplication)\n",
    "print(output_division)\n",
    "print(output_modulo)\n",
    "print(output_floor_division)\n",
    "print(output_exponentiation)\n"
   ]
  },
  {
   "cell_type": "markdown",
   "metadata": {},
   "source": [
    "### END OF DAY 4"
   ]
  }
 ],
 "metadata": {
  "kernelspec": {
   "display_name": "adsatesting",
   "language": "python",
   "name": "python3"
  },
  "language_info": {
   "codemirror_mode": {
    "name": "ipython",
    "version": 3
   },
   "file_extension": ".py",
   "mimetype": "text/x-python",
   "name": "python",
   "nbconvert_exporter": "python",
   "pygments_lexer": "ipython3",
   "version": "3.10.13"
  },
  "orig_nbformat": 4
 },
 "nbformat": 4,
 "nbformat_minor": 2
}
