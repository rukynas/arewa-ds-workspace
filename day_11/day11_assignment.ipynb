{
 "cells": [
  {
   "cell_type": "markdown",
   "metadata": {},
   "source": [
    "### Exercises: Day 11"
   ]
  },
  {
   "cell_type": "markdown",
   "metadata": {},
   "source": [
    "#### Exercises: Level 1\n",
    "1. Declare a function add_two_numbers. It takes two parameters and it returns a sum.\n"
   ]
  },
  {
   "cell_type": "code",
   "execution_count": 2,
   "metadata": {},
   "outputs": [
    {
     "name": "stdout",
     "output_type": "stream",
     "text": [
      "The sum = 7\n"
     ]
    }
   ],
   "source": [
    "# create a function to calculate sum \n",
    "def sum_num(a,b):\n",
    "    total = a+b\n",
    "    return total\n",
    "# call function in print\n",
    "print(\"The sum =\", sum_num(2,5))\n"
   ]
  },
  {
   "cell_type": "markdown",
   "metadata": {},
   "source": [
    "2. Area of a circle is calculated as follows: area = π x r x r. Write a function that calculates area_of_circle."
   ]
  },
  {
   "cell_type": "code",
   "execution_count": 8,
   "metadata": {},
   "outputs": [
    {
     "name": "stdout",
     "output_type": "stream",
     "text": [
      "50.24\n"
     ]
    }
   ],
   "source": [
    "# function to calculate area of a circle\n",
    "def area_circle(r, pi=3.14):\n",
    "    area= pi * r * r\n",
    "    return area\n",
    "    \n",
    "print(area_circle(4))    "
   ]
  },
  {
   "cell_type": "markdown",
   "metadata": {},
   "source": [
    "3. Write a function called add_all_nums which takes arbitrary number of arguments and sums all the arguments. Check if all the list items are number types. If not do give a reasonable feedback."
   ]
  },
  {
   "cell_type": "code",
   "execution_count": 18,
   "metadata": {},
   "outputs": [
    {
     "name": "stdout",
     "output_type": "stream",
     "text": [
      "19\n"
     ]
    }
   ],
   "source": [
    "# define function to calculate number of arguments\n",
    "def add_all_nums(*args):\n",
    "    total= 0\n",
    "    for i in args:\n",
    "        total+=i\n",
    "    return total\n",
    "    \n",
    "print(add_all_nums(7,3,5,4))"
   ]
  },
  {
   "cell_type": "markdown",
   "metadata": {},
   "source": [
    "4. Temperature in °C can be converted to °F using this formula: °F = (°C x 9/5) + 32. Write a function which converts °C to °F, convert_celsius_to-fahrenheit."
   ]
  },
  {
   "cell_type": "code",
   "execution_count": 19,
   "metadata": {},
   "outputs": [
    {
     "name": "stdout",
     "output_type": "stream",
     "text": [
      "25.0°C is equal to 77.0°F\n"
     ]
    }
   ],
   "source": [
    "def convert_celsius_to_fahrenheit(celsius):\n",
    "    \n",
    "    #Convert temperature from Celsius to Fahrenheit.\n",
    "    fahrenheit = (celsius * 9/5) + 32\n",
    "    return fahrenheit\n",
    "\n",
    "celsius_temperature = 25.0\n",
    "fahrenheit_result = convert_celsius_to_fahrenheit(celsius_temperature)\n",
    "print(f\"{celsius_temperature}°C is equal to {fahrenheit_result}°F\")\n"
   ]
  },
  {
   "cell_type": "markdown",
   "metadata": {},
   "source": [
    "5. Write a function called check-season, it takes a month parameter and returns the season: Autumn, Winter, Spring or Summer."
   ]
  },
  {
   "cell_type": "code",
   "execution_count": 22,
   "metadata": {},
   "outputs": [
    {
     "name": "stdout",
     "output_type": "stream",
     "text": [
      "The season for August is Summer\n"
     ]
    }
   ],
   "source": [
    "def check_season(month):\n",
    "\n",
    "    # Determine the season based on the given month.\n",
    "    # Mapping of months to seasons as dictionary\n",
    "    season_mapping = {\n",
    "        'December': 'Winter',\n",
    "        'January': 'Winter',\n",
    "        'February': 'Winter',\n",
    "        'March': 'Spring',\n",
    "        'April': 'Spring',\n",
    "        'May': 'Spring',\n",
    "        'June': 'Summer',\n",
    "        'July': 'Summer',\n",
    "        'August': 'Summer',\n",
    "        'September': 'Autumn',\n",
    "        'October': 'Autumn',\n",
    "        'November': 'Autumn',\n",
    "    }\n",
    "\n",
    "    # Check if the provided month is in the mapping\n",
    "    if month in season_mapping:\n",
    "        return season_mapping[month]\n",
    "    else:\n",
    "        return \"Invalid month\"\n",
    "\n",
    "# Example\n",
    "given_month = 'August'\n",
    "result_season = check_season(given_month)\n",
    "print(f\"The season for {given_month} is {result_season}\")\n"
   ]
  },
  {
   "cell_type": "markdown",
   "metadata": {},
   "source": [
    "6. Write a function called calculate_slope which return the slope of a linear equation\n"
   ]
  },
  {
   "cell_type": "code",
   "execution_count": 23,
   "metadata": {},
   "outputs": [
    {
     "name": "stdout",
     "output_type": "stream",
     "text": [
      "The slope of the line is: 1.0\n"
     ]
    }
   ],
   "source": [
    "def calculate_slope(x1, y1, x2, y2):\n",
    "\n",
    "    slope = (y2 - y1) / (x2 - x1)\n",
    "    return slope\n",
    "\n",
    "# Example usage:\n",
    "x1, y1 = 1, 2\n",
    "x2, y2 = 3, 4\n",
    "\n",
    "result_slope = calculate_slope(x1, y1, x2, y2)\n",
    "print(f\"The slope of the line is: {result_slope}\")\n"
   ]
  },
  {
   "cell_type": "markdown",
   "metadata": {},
   "source": []
  },
  {
   "cell_type": "code",
   "execution_count": 24,
   "metadata": {},
   "outputs": [
    {
     "name": "stdout",
     "output_type": "stream",
     "text": [
      "The roots of the quadratic equation are: (2.0, 1.0)\n"
     ]
    }
   ],
   "source": [
    "def solve_quadratic_eqn(a, b, c):\n",
    "   \n",
    "    # Calculate the discriminant\n",
    "    d = b**2 - 4*a*c\n",
    "\n",
    "    \n",
    "     # Calculate the real roots\n",
    "    root1 = (-b + (d)**0.5) / (2*a)\n",
    "    root2 = (-b - (d)**0.5) / (2*a)\n",
    "    return root1, root2\n",
    "    \n",
    "# Example usage:\n",
    "a, b, c = 1, -3, 2\n",
    "\n",
    "result_roots = solve_quadratic_eqn(a, b, c)\n",
    "print(f\"The roots of the quadratic equation are: {result_roots}\")\n"
   ]
  }
 ],
 "metadata": {
  "kernelspec": {
   "display_name": "adsatesting",
   "language": "python",
   "name": "python3"
  },
  "language_info": {
   "codemirror_mode": {
    "name": "ipython",
    "version": 3
   },
   "file_extension": ".py",
   "mimetype": "text/x-python",
   "name": "python",
   "nbconvert_exporter": "python",
   "pygments_lexer": "ipython3",
   "version": "3.10.13"
  },
  "orig_nbformat": 4
 },
 "nbformat": 4,
 "nbformat_minor": 2
}
