{
 "cells": [
  {
   "cell_type": "markdown",
   "metadata": {},
   "source": [
    "### Exercises: Day 11"
   ]
  },
  {
   "cell_type": "markdown",
   "metadata": {},
   "source": [
    "#### Exercises: Level 1\n",
    "1. Declare a function add_two_numbers. It takes two parameters and it returns a sum.\n"
   ]
  },
  {
   "cell_type": "code",
   "execution_count": 2,
   "metadata": {},
   "outputs": [
    {
     "name": "stdout",
     "output_type": "stream",
     "text": [
      "The sum = 7\n"
     ]
    }
   ],
   "source": [
    "# create a function to calculate sum \n",
    "def sum_num(a,b):\n",
    "    total = a+b\n",
    "    return total\n",
    "# call function in print\n",
    "print(\"The sum =\", sum_num(2,5))\n"
   ]
  },
  {
   "cell_type": "markdown",
   "metadata": {},
   "source": [
    "2. Area of a circle is calculated as follows: area = π x r x r. Write a function that calculates area_of_circle."
   ]
  },
  {
   "cell_type": "code",
   "execution_count": 8,
   "metadata": {},
   "outputs": [
    {
     "name": "stdout",
     "output_type": "stream",
     "text": [
      "50.24\n"
     ]
    }
   ],
   "source": [
    "# function to calculate area of a circle\n",
    "def area_circle(r, pi=3.14):\n",
    "    area= pi * r * r\n",
    "    return area\n",
    "    \n",
    "print(area_circle(4))    "
   ]
  },
  {
   "cell_type": "markdown",
   "metadata": {},
   "source": [
    "3. Write a function called add_all_nums which takes arbitrary number of arguments and sums all the arguments. Check if all the list items are number types. If not do give a reasonable feedback."
   ]
  },
  {
   "cell_type": "code",
   "execution_count": 18,
   "metadata": {},
   "outputs": [
    {
     "name": "stdout",
     "output_type": "stream",
     "text": [
      "19\n"
     ]
    }
   ],
   "source": [
    "# define function to calculate number of arguments\n",
    "def add_all_nums(*args):\n",
    "    total= 0\n",
    "    for i in args:\n",
    "        total+=i\n",
    "    return total\n",
    "    \n",
    "print(add_all_nums(7,3,5,4))"
   ]
  },
  {
   "cell_type": "markdown",
   "metadata": {},
   "source": [
    "4. Temperature in °C can be converted to °F using this formula: °F = (°C x 9/5) + 32. Write a function which converts °C to °F, convert_celsius_to-fahrenheit."
   ]
  },
  {
   "cell_type": "code",
   "execution_count": 19,
   "metadata": {},
   "outputs": [
    {
     "name": "stdout",
     "output_type": "stream",
     "text": [
      "25.0°C is equal to 77.0°F\n"
     ]
    }
   ],
   "source": [
    "def convert_celsius_to_fahrenheit(celsius):\n",
    "    \n",
    "    #Convert temperature from Celsius to Fahrenheit.\n",
    "    fahrenheit = (celsius * 9/5) + 32\n",
    "    return fahrenheit\n",
    "\n",
    "celsius_temperature = 25.0\n",
    "fahrenheit_result = convert_celsius_to_fahrenheit(celsius_temperature)\n",
    "print(f\"{celsius_temperature}°C is equal to {fahrenheit_result}°F\")\n"
   ]
  },
  {
   "cell_type": "markdown",
   "metadata": {},
   "source": [
    "5. Write a function called check-season, it takes a month parameter and returns the season: Autumn, Winter, Spring or Summer."
   ]
  },
  {
   "cell_type": "code",
   "execution_count": 22,
   "metadata": {},
   "outputs": [
    {
     "name": "stdout",
     "output_type": "stream",
     "text": [
      "The season for August is Summer\n"
     ]
    }
   ],
   "source": [
    "def check_season(month):\n",
    "\n",
    "    # Determine the season based on the given month.\n",
    "    # Mapping of months to seasons as dictionary\n",
    "    season_mapping = {\n",
    "        'December': 'Winter',\n",
    "        'January': 'Winter',\n",
    "        'February': 'Winter',\n",
    "        'March': 'Spring',\n",
    "        'April': 'Spring',\n",
    "        'May': 'Spring',\n",
    "        'June': 'Summer',\n",
    "        'July': 'Summer',\n",
    "        'August': 'Summer',\n",
    "        'September': 'Autumn',\n",
    "        'October': 'Autumn',\n",
    "        'November': 'Autumn',\n",
    "    }\n",
    "\n",
    "    # Check if the provided month is in the mapping\n",
    "    if month in season_mapping:\n",
    "        return season_mapping[month]\n",
    "    else:\n",
    "        return \"Invalid month\"\n",
    "\n",
    "# Example\n",
    "given_month = 'August'\n",
    "result_season = check_season(given_month)\n",
    "print(f\"The season for {given_month} is {result_season}\")\n"
   ]
  },
  {
   "cell_type": "markdown",
   "metadata": {},
   "source": [
    "6. Write a function called calculate_slope which return the slope of a linear equation\n"
   ]
  },
  {
   "cell_type": "code",
   "execution_count": 23,
   "metadata": {},
   "outputs": [
    {
     "name": "stdout",
     "output_type": "stream",
     "text": [
      "The slope of the line is: 1.0\n"
     ]
    }
   ],
   "source": [
    "def calculate_slope(x1, y1, x2, y2):\n",
    "\n",
    "    slope = (y2 - y1) / (x2 - x1)\n",
    "    return slope\n",
    "\n",
    "# Example usage:\n",
    "x1, y1 = 1, 2\n",
    "x2, y2 = 3, 4\n",
    "\n",
    "result_slope = calculate_slope(x1, y1, x2, y2)\n",
    "print(f\"The slope of the line is: {result_slope}\")\n"
   ]
  },
  {
   "cell_type": "markdown",
   "metadata": {},
   "source": [
    "7. Quadratic equation is calculated as follows: ax² + bx + c = 0. Write a function which calculates solution set of a quadratic equation, solve_quadratic_eqn."
   ]
  },
  {
   "cell_type": "code",
   "execution_count": 24,
   "metadata": {},
   "outputs": [
    {
     "name": "stdout",
     "output_type": "stream",
     "text": [
      "The roots of the quadratic equation are: (2.0, 1.0)\n"
     ]
    }
   ],
   "source": [
    "def solve_quadratic_eqn(a, b, c):\n",
    "   \n",
    "    # Calculate the discriminant\n",
    "    d = b**2 - 4*a*c\n",
    "\n",
    "    \n",
    "     # Calculate the real roots\n",
    "    root1 = (-b + (d)**0.5) / (2*a)\n",
    "    root2 = (-b - (d)**0.5) / (2*a)\n",
    "    return root1, root2\n",
    "    \n",
    "# Example usage:\n",
    "a, b, c = 1, -3, 2\n",
    "\n",
    "result_roots = solve_quadratic_eqn(a, b, c)\n",
    "print(f\"The roots of the quadratic equation are: {result_roots}\")\n"
   ]
  },
  {
   "cell_type": "markdown",
   "metadata": {},
   "source": [
    "8. Declare a function named print_list. It takes a list as a parameter and it prints out each element of the list.\n"
   ]
  },
  {
   "cell_type": "code",
   "execution_count": 26,
   "metadata": {},
   "outputs": [
    {
     "name": "stdout",
     "output_type": "stream",
     "text": [
      "Elements of the list:\n",
      "1\n",
      "3\n",
      "four\n",
      "52.0\n"
     ]
    }
   ],
   "source": [
    "def print_list(my_list):\n",
    "    # iterate through the list\n",
    "    for item in my_list:\n",
    "        print(item)\n",
    "\n",
    "# Example usage:\n",
    "my_list = [1, 3, 'four', 52.0]\n",
    "\n",
    "print(\"Elements of the list:\")\n",
    "print_list(my_list)\n",
    "\n",
    "    "
   ]
  },
  {
   "cell_type": "markdown",
   "metadata": {},
   "source": [
    "9. Declare a function named reverse_list. It takes an array as a parameter and it returns the reverse of the array (use loops).  \n",
    "print(reverse_list([1, 2, 3, 4, 5]))  \n",
    ".# [5, 4, 3, 2, 1]  \n",
    "print(reverse_list1([\"A\", \"B\", \"C\"]))  \n",
    ".# [\"C\", \"B\", \"A\"]  "
   ]
  },
  {
   "cell_type": "code",
   "execution_count": 27,
   "metadata": {},
   "outputs": [
    {
     "name": "stdout",
     "output_type": "stream",
     "text": [
      "[5, 4, 3, 2, 1]\n",
      "['C', 'B', 'A']\n"
     ]
    }
   ],
   "source": [
    "def reverse_list(my_list):\n",
    "    \n",
    "    #iterate and append the list\n",
    "    reversed_list = []\n",
    "    for i in range(len(my_list) - 1, -1, -1):\n",
    "        reversed_list.append(my_list[i])\n",
    "    return reversed_list\n",
    "\n",
    "# Example\n",
    "print(reverse_list([1, 2, 3, 4, 5]))\n",
    "\n",
    "print(reverse_list([\"A\", \"B\", \"C\"]))"
   ]
  },
  {
   "cell_type": "markdown",
   "metadata": {},
   "source": [
    "10. Declare a function named capitalize_list_items. It takes a list as a parameter and it returns a capitalized list of items\n"
   ]
  },
  {
   "cell_type": "code",
   "execution_count": 28,
   "metadata": {},
   "outputs": [
    {
     "name": "stdout",
     "output_type": "stream",
     "text": [
      "Original List: ['apple', 'banana', 'cherry']\n",
      "Capitalized List: ['Apple', 'Banana', 'Cherry']\n"
     ]
    }
   ],
   "source": [
    "def capitalize_list_items(my_list):\n",
    "    \n",
    "    #iterate and capitalize\n",
    "    capitalized_list = [item.capitalize() for item in my_list]\n",
    "    return capitalized_list\n",
    "\n",
    "# Example usage:\n",
    "original_list = [\"apple\", \"banana\", \"cherry\"]\n",
    "\n",
    "capitalized_result = capitalize_list_items(original_list)\n",
    "print(\"Original List:\", original_list)\n",
    "print(\"Capitalized List:\", capitalized_result)\n"
   ]
  },
  {
   "cell_type": "markdown",
   "metadata": {},
   "source": [
    "11. Declare a function named add_item. It takes a list and an item parameters. It returns a list with the item added at the end.  \n",
    "food_staff = ['Potato', 'Tomato', 'Mango', 'Milk'];  \n",
    "print(add_item(food_staff, 'Meat'))     # ['Potato', 'Tomato', 'Mango', 'Milk','Meat'];  \n",
    "numbers = [2, 3, 7, 9];  \n",
    "print(add_item(numbers, 5))      [2, 3, 7, 9, 5]  "
   ]
  },
  {
   "cell_type": "code",
   "execution_count": 29,
   "metadata": {},
   "outputs": [
    {
     "name": "stdout",
     "output_type": "stream",
     "text": [
      "['Potato', 'Tomato', 'Mango', 'Milk', 'Meat']\n",
      "[2, 3, 7, 9, 5]\n"
     ]
    }
   ],
   "source": [
    "def add_item(my_list, new_item):\n",
    "    \n",
    "    updated_list = my_list + [new_item]\n",
    "    return updated_list\n",
    "\n",
    "# Example\n",
    "food_staff = ['Potato', 'Tomato', 'Mango', 'Milk']\n",
    "result_food_staff = add_item(food_staff, 'Meat')\n",
    "print(result_food_staff)\n",
    "\n",
    "numbers = [2, 3, 7, 9]\n",
    "result_numbers = add_item(numbers, 5)\n",
    "print(result_numbers)\n"
   ]
  },
  {
   "cell_type": "markdown",
   "metadata": {},
   "source": [
    "12. Declare a function named remove_item. It takes a list and an item parameters. It returns a list with the item removed from it.  \n",
    "food_staff = ['Potato', 'Tomato', 'Mango', 'Milk'];  \n",
    "print(remove_item(food_staff, 'Mango'))  # ['Potato', 'Tomato', 'Milk'];  \n",
    "numbers = [2, 3, 7, 9];  \n",
    "print(remove_item(numbers, 3))  # [2, 7, 9  "
   ]
  },
  {
   "cell_type": "code",
   "execution_count": 30,
   "metadata": {},
   "outputs": [
    {
     "name": "stdout",
     "output_type": "stream",
     "text": [
      "['Potato', 'Tomato', 'Milk']\n",
      "[2, 7, 9]\n"
     ]
    }
   ],
   "source": [
    "def remove_item(my_list, item_to_remove):\n",
    "    \n",
    "    updated_list = [item for item in my_list if item != item_to_remove]\n",
    "    return updated_list\n",
    "\n",
    "# Example usage:\n",
    "food_stuff = ['Potato', 'Tomato', 'Mango', 'Milk']\n",
    "result_food_stuff = remove_item(food_stuff, 'Mango')\n",
    "print(result_food_stuff)\n",
    "\n",
    "numbers = [2, 3, 7, 9]\n",
    "result_numbers = remove_item(numbers, 3)\n",
    "print(result_numbers)\n"
   ]
  },
  {
   "cell_type": "markdown",
   "metadata": {},
   "source": [
    "13. Declare a function named sum_of_numbers. It takes a number parameter and it adds all the numbers in that range.  \n",
    "print(sum_of_numbers(5))  # 15  \n",
    "print(sum_all_numbers(10)) # 55  \n",
    "print(sum_all_numbers(100)) # 5050  "
   ]
  },
  {
   "cell_type": "code",
   "execution_count": 33,
   "metadata": {},
   "outputs": [
    {
     "name": "stdout",
     "output_type": "stream",
     "text": [
      "15\n",
      "55\n",
      "5050\n"
     ]
    }
   ],
   "source": [
    "def sum_of_numbers(n):\n",
    "   \n",
    "    return sum(range(1, n + 1))\n",
    "\n",
    "# Example usage:\n",
    "print(sum_of_numbers(5))\n",
    "print(sum_of_numbers(10))\n",
    "print(sum_of_numbers(100))\n"
   ]
  },
  {
   "cell_type": "markdown",
   "metadata": {},
   "source": [
    "14. Declare a function named sum_of_odds. It takes a number parameter and it adds all the odd numbers in that range.  \n",
    "    \n",
    "15. Declare a function named sum_of_even. It takes a number parameter and it adds all the even numbers in that - range.\n"
   ]
  },
  {
   "cell_type": "code",
   "execution_count": 35,
   "metadata": {},
   "outputs": [
    {
     "name": "stdout",
     "output_type": "stream",
     "text": [
      "Sum of odds in the range: 9\n",
      "Sum of evens in the range: 6\n"
     ]
    }
   ],
   "source": [
    "def sum_of_odds(number):\n",
    "    # generate odd numbers in the range\n",
    "    odd_numbers = (n for n in range(number + 1) if n % 2 == 1)\n",
    "    return sum(odd_numbers)\n",
    "\n",
    "def sum_of_even(number):\n",
    "    #generate even numbers in the range\n",
    "    even_numbers = (n for n in range(number + 1) if n % 2 == 0)\n",
    "    return sum(even_numbers)\n",
    "\n",
    "# Example\n",
    "number_input = int(input(\"Enter a number: \"))\n",
    "\n",
    "result_sum_of_odds = sum_of_odds(number_input)\n",
    "result_sum_of_even = sum_of_even(number_input)\n",
    "\n",
    "print(f\"Sum of odds in the range: {result_sum_of_odds}\")\n",
    "print(f\"Sum of evens in the range: {result_sum_of_even}\")\n"
   ]
  },
  {
   "cell_type": "markdown",
   "metadata": {},
   "source": [
    "#### Exercises: Level 2\n",
    "\n",
    "1. Declare a function named evens_and_odds . It takes a positive integer as parameter and it counts number of evens and odds in the number."
   ]
  },
  {
   "cell_type": "code",
   "execution_count": 44,
   "metadata": {},
   "outputs": [],
   "source": [
    "def evens_and_odds(number):\n",
    "    # Ensure the input is a positive integer\n",
    "    if not isinstance(number, int) or number <= 0:\n",
    "        return \"Please provide a positive integer.\"\n",
    "\n",
    "    # Convert the number to a string to iterate through its digits\n",
    "    number_str = str(number)\n",
    "\n",
    "    # Count the number of even and odd digits\n",
    "    count_even = sum(1 for digit in number_str if int(digit) % 2 == 0)\n",
    "    count_odd = sum(1 for digit in number_str if int(digit) % 2 != 0)\n",
    "\n",
    "    # Print the results\n",
    "    result = f\"The number of odds are {count_odd}.\\nThe number of evens are {count_even}.\"\n",
    "    return result\n",
    "\n",
    "# Example usage:\n",
    "number_input = int(input(\"Enter a positive integer: \"))\n",
    "result = evens_and_odds(number_input)\n",
    "\n"
   ]
  },
  {
   "cell_type": "markdown",
   "metadata": {},
   "source": [
    "Call your function factorial, it takes a whole number as a parameter and it return a factorial of the number\n"
   ]
  },
  {
   "cell_type": "code",
   "execution_count": 47,
   "metadata": {},
   "outputs": [
    {
     "name": "stdout",
     "output_type": "stream",
     "text": [
      "The factorial of 6 is 720.\n"
     ]
    }
   ],
   "source": [
    "def factorial(number):\n",
    "\n",
    "    # Calculate the factorial\n",
    "    result = 1\n",
    "    for i in range(1, number + 1):\n",
    "        result *= i\n",
    "\n",
    "    return result\n",
    "\n",
    "# Example usage:\n",
    "number_input = int(input(\"Enter a positive integer: \"))\n",
    "result = factorial(number_input)\n",
    "print(f\"The factorial of {number_input} is {result}.\")\n"
   ]
  },
  {
   "cell_type": "markdown",
   "metadata": {},
   "source": [
    "2. Call your function is_empty, it takes a parameter and it checks if it is empty or not\n"
   ]
  },
  {
   "cell_type": "code",
   "execution_count": 51,
   "metadata": {},
   "outputs": [
    {
     "name": "stdout",
     "output_type": "stream",
     "text": [
      "The value is empty.\n"
     ]
    }
   ],
   "source": [
    "def is_empty(value):\n",
    "    # Check if the value is empty\n",
    "    if not value:\n",
    "        return True\n",
    "    else:\n",
    "        return False\n",
    "\n",
    "# Example usage:\n",
    "input_value = input(\"Enter a value: \")\n",
    "result = is_empty(input_value)\n",
    "\n",
    "if result:\n",
    "    print(\"The value is empty.\")\n",
    "else:\n",
    "    print(\"The value is not empty.\")\n"
   ]
  },
  {
   "cell_type": "markdown",
   "metadata": {},
   "source": [
    "3. Write different functions which take lists. They should calculate_mean, calculate_median, calculate_mode, calculate_range, calculate_variance, calculate_std (standard deviation).\n"
   ]
  },
  {
   "cell_type": "code",
   "execution_count": 55,
   "metadata": {},
   "outputs": [
    {
     "name": "stdout",
     "output_type": "stream",
     "text": [
      "Mean: 4.3\n",
      "Median: 4.5\n",
      "Mode: [2, 5]\n",
      "Range: 7\n",
      "Variance: 4.8100000000000005\n",
      "Standard Deviation: 2.193171219946131\n"
     ]
    }
   ],
   "source": [
    "def calculate_mean(data):\n",
    "  \n",
    "  # Calculate the mean of the given list.\n",
    "    return sum(data) / len(data)\n",
    "\n",
    "def calculate_median(data):\n",
    "    \n",
    "    #Calculate the median of the given list.\n",
    "    sorted_data = sorted(data)\n",
    "    n = len(sorted_data)\n",
    "    if n % 2 == 0:\n",
    "        return (sorted_data[n//2 - 1] + sorted_data[n//2]) / 2\n",
    "    else:\n",
    "        return sorted_data[n//2]\n",
    "\n",
    "\n",
    "def calculate_range(data):\n",
    "    \n",
    "    #Calculate the range of the given list.\n",
    "    return max(data) - min(data)\n",
    "\n",
    "def calculate_variance(data):\n",
    "    # Calculate the mean of the given list.\n",
    "    mean = calculate_mean(data)\n",
    "    variance = sum((x - mean) ** 2 for x in data) / len(data)\n",
    "    return variance\n",
    "\n",
    "def calculate_std(data):\n",
    "    #Calculate the standard deviation of the given list.\n",
    "    import math\n",
    "    return math.sqrt(calculate_variance(data))\n",
    "\n",
    "# Example usage:\n",
    "data = [1, 2, 2, 3, 4, 5, 5, 6, 7, 8]\n",
    "\n",
    "print(\"Mean:\", calculate_mean(data))\n",
    "print(\"Median:\", calculate_median(data))\n",
    "print(\"Mode:\", calculate_mode(data))\n",
    "print(\"Range:\", calculate_range(data))\n",
    "print(\"Variance:\", calculate_variance(data))\n",
    "print(\"Standard Deviation:\", calculate_std(data))\n"
   ]
  },
  {
   "cell_type": "markdown",
   "metadata": {},
   "source": []
  },
  {
   "cell_type": "code",
   "execution_count": null,
   "metadata": {},
   "outputs": [],
   "source": []
  }
 ],
 "metadata": {
  "kernelspec": {
   "display_name": "adsatesting",
   "language": "python",
   "name": "python3"
  },
  "language_info": {
   "codemirror_mode": {
    "name": "ipython",
    "version": 3
   },
   "file_extension": ".py",
   "mimetype": "text/x-python",
   "name": "python",
   "nbconvert_exporter": "python",
   "pygments_lexer": "ipython3",
   "version": "3.10.13"
  },
  "orig_nbformat": 4
 },
 "nbformat": 4,
 "nbformat_minor": 2
}
