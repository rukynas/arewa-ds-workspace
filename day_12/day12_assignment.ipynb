{
 "cells": [
  {
   "cell_type": "markdown",
   "metadata": {},
   "source": [
    "### Exercises: Day 12"
   ]
  },
  {
   "cell_type": "markdown",
   "metadata": {},
   "source": [
    "#### Exercises: Level 1\n",
    "\n",
    "1. Write a function which generates a six digit/character random_user_id.\n",
    "  print(random_user_id());\n",
    "  '1ee33d'"
   ]
  },
  {
   "cell_type": "code",
   "execution_count": 4,
   "metadata": {},
   "outputs": [
    {
     "name": "stdout",
     "output_type": "stream",
     "text": [
      "BLY8Rr\n"
     ]
    }
   ],
   "source": [
    "\n",
    "import random\n",
    "import string\n",
    "\n",
    "def random_user_id():\n",
    "    # Generate a six-digit/character random user ID.\n",
    "\n",
    "    return ''.join(random.choices(string.ascii_letters + string.digits, k=6))\n",
    "\n",
    "print(random_user_id())  "
   ]
  },
  {
   "cell_type": "markdown",
   "metadata": {},
   "source": [
    "2. Modify the previous task. Declare a function named user_id_gen_by_user. It doesn’t take any parameters but it takes two inputs using input(). One of the inputs is the number of characters and the second input is the number of IDs which are supposed to be generated.\n"
   ]
  },
  {
   "cell_type": "code",
   "execution_count": 6,
   "metadata": {},
   "outputs": [
    {
     "name": "stdout",
     "output_type": "stream",
     "text": [
      "Generated User IDs: ['Mx1y3H', 'ebFsmF', 'CcycY6', 'PfIgBk', 'dT57hw']\n"
     ]
    }
   ],
   "source": [
    "import random\n",
    "import string\n",
    "\n",
    "def user_id_gen_by_user():\n",
    "    \n",
    "    char_count_input = input(\"Enter the number of characters for each user ID: \")\n",
    "    id_count_input = input(\"Enter the number of user IDs to generate: \")\n",
    "\n",
    "    if char_count_input.isdigit() and id_count_input.isdigit():\n",
    "        char_count = int(char_count_input)\n",
    "        id_count = int(id_count_input)\n",
    "\n",
    "        user_ids = [''.join(random.choices(string.ascii_letters + string.digits, k=char_count)) for _ in range(id_count)]\n",
    "        return user_ids\n",
    "    else:\n",
    "        print(\"Invalid input. Please enter valid numeric values.\")\n",
    "        return []\n",
    "\n",
    "# Example usage:\n",
    "generated_user_ids = user_id_gen_by_user()\n",
    "print(\"Generated User IDs:\", generated_user_ids)\n"
   ]
  },
  {
   "cell_type": "markdown",
   "metadata": {},
   "source": [
    "3. Write a function named rgb_color_gen. It will generate rgb colors (3 values ranging from 0 to 255 each).\n"
   ]
  },
  {
   "cell_type": "code",
   "execution_count": 9,
   "metadata": {},
   "outputs": [
    {
     "name": "stdout",
     "output_type": "stream",
     "text": [
      "RGB (221, 27, 249)\n"
     ]
    }
   ],
   "source": [
    "import random\n",
    "\n",
    "def rgb_color_gen():\n",
    "   \n",
    "    red = random.randint(0, 255)\n",
    "    green = random.randint(0, 255)\n",
    "    blue = random.randint(0, 255)\n",
    "    \n",
    "    # returns a tuple\n",
    "    return red, green, blue\n",
    "\n",
    "# Example usage:\n",
    "random_color = rgb_color_gen()\n",
    "print(\"RGB\", random_color)\n"
   ]
  },
  {
   "cell_type": "markdown",
   "metadata": {},
   "source": [
    "#### Exercises: Level 2\n",
    "\n",
    "1. Write a function list_of_hexa_colors which returns any number of hexadecimal colors in an array (six hexadecimal numbers written after #. Hexadecimal numeral system is made out of 16 symbols, 0-9 and first 6 letters of the alphabet, a-f. Check the task 6 for output examples)."
   ]
  },
  {
   "cell_type": "code",
   "execution_count": 12,
   "metadata": {},
   "outputs": [
    {
     "name": "stdout",
     "output_type": "stream",
     "text": [
      "List of Hexadecimal Colors: ['#676e60', '#f6eacf', '#504821', '#364103', '#a13d29']\n"
     ]
    }
   ],
   "source": [
    "import random\n",
    "\n",
    "def list_of_hexa_colors(number_of_colors):\n",
    "    \n",
    "    hex_colors = ['#' + ''.join(random.choices('0123456789abcdef', k=6)) for _ in range(number_of_colors)]\n",
    "    return hex_colors\n",
    "\n",
    "# Example usage:\n",
    "number_of_colors = 5\n",
    "hex_color_list = list_of_hexa_colors(number_of_colors)\n",
    "print(\"List of Hexadecimal Colors:\", hex_color_list)\n"
   ]
  },
  {
   "cell_type": "markdown",
   "metadata": {},
   "source": [
    "2. Write a function list_of_rgb_colors which returns any number of RGB colors in an array.\n"
   ]
  },
  {
   "cell_type": "code",
   "execution_count": 19,
   "metadata": {},
   "outputs": [
    {
     "name": "stdout",
     "output_type": "stream",
     "text": [
      "List of RGB Colors: [(171, 147, 45), (156, 211, 185), (205, 146, 104), (46, 80, 210), (209, 167, 24)]\n"
     ]
    }
   ],
   "source": [
    "import random\n",
    "\n",
    "def list_of_rgb_colors(number_of_colors):\n",
    "    \n",
    "    rgb_colors = [(random.randint(0, 255), random.randint(0, 255), random.randint(0, 255)) for _ in range(number_of_colors)]\n",
    "    return rgb_colors\n",
    "\n",
    "# Example usage:\n",
    "number_of_colors = 5\n",
    "rgb_color_list = list_of_rgb_colors(number_of_colors)\n",
    "print(\"List of RGB Colors:\", rgb_color_list)\n"
   ]
  },
  {
   "cell_type": "markdown",
   "metadata": {},
   "source": [
    "3. Write a function generate_colors which can generate any number of hexa or rgb colors.\n",
    "   "
   ]
  },
  {
   "cell_type": "code",
   "execution_count": 33,
   "metadata": {},
   "outputs": [
    {
     "name": "stdout",
     "output_type": "stream",
     "text": [
      "Hexadecimal Colors: ['#ab3230', '#f15ec9', '#e7c703']\n",
      "RGB Colors: ['rgb(106, 34, 55)', 'rgb(211, 45, 189)', 'rgb(173, 152, 81)']\n"
     ]
    }
   ],
   "source": [
    "import random\n",
    "\n",
    "def generate_colors(color_type, number_of_colors):\n",
    "   \n",
    "    colors = []\n",
    "\n",
    "    if color_type == 'hexa':\n",
    "        colors = ['#' + ''.join(random.choices('0123456789abcdef', k=6)) for _ in range(number_of_colors)]\n",
    "    elif color_type == 'rgb':\n",
    "        colors = [f'rgb({random.randint(0, 255)}, {random.randint(0, 255)}, {random.randint(0, 255)})' for _ in range(number_of_colors)]\n",
    "\n",
    "    return colors\n",
    "\n",
    "# function call\n",
    "hex_colors = generate_colors('hexa', 3)\n",
    "print(\"Hexadecimal Colors:\", hex_colors)\n",
    "\n",
    "rgb_colors = generate_colors('rgb', 3)\n",
    "print(\"RGB Colors:\", rgb_colors)\n"
   ]
  },
  {
   "cell_type": "markdown",
   "metadata": {},
   "source": [
    "#### Exercises: Level 3\n",
    "\n",
    "1. Call your function shuffle_list, it takes a list as a parameter and it returns a shuffled list\n",
    "   \n"
   ]
  },
  {
   "cell_type": "code",
   "execution_count": 35,
   "metadata": {},
   "outputs": [
    {
     "name": "stdout",
     "output_type": "stream",
     "text": [
      "Original List: [1, 2, 3, 4, 5]\n",
      "Shuffled List: [3, 5, 2, 4, 1]\n"
     ]
    }
   ],
   "source": [
    "import random\n",
    "\n",
    "def shuffle_list(my_list):\n",
    "    \n",
    "    shuffled_list = my_list.copy()\n",
    "    random.shuffle(shuffled_list)\n",
    "    return shuffled_list\n",
    "\n",
    "# function call\n",
    "original_list = [1, 2, 3, 4, 5]\n",
    "shuffled_result = shuffle_list(original_list)\n",
    "print(\"Original List:\", original_list)\n",
    "print(\"Shuffled List:\", shuffled_result)\n"
   ]
  },
  {
   "cell_type": "markdown",
   "metadata": {},
   "source": [
    "2. Write a function which returns an array of seven random numbers in a range of 0-9. All the numbers must be unique.\n"
   ]
  },
  {
   "cell_type": "code",
   "execution_count": 37,
   "metadata": {},
   "outputs": [
    {
     "name": "stdout",
     "output_type": "stream",
     "text": [
      "Seven Unique Random Numbers: [6, 3, 5, 4, 9, 0, 8]\n"
     ]
    }
   ],
   "source": [
    "import random\n",
    "\n",
    "def seven_unique_random_numbers():\n",
    "    \n",
    "    unique_numbers = random.sample(range(10), 7)\n",
    "    return unique_numbers\n",
    "\n",
    "random_numbers = seven_unique_random_numbers()\n",
    "print(\"Seven Unique Random Numbers:\", random_numbers)\n"
   ]
  },
  {
   "cell_type": "markdown",
   "metadata": {},
   "source": [
    "#### END"
   ]
  }
 ],
 "metadata": {
  "kernelspec": {
   "display_name": "adsatesting",
   "language": "python",
   "name": "python3"
  },
  "language_info": {
   "codemirror_mode": {
    "name": "ipython",
    "version": 3
   },
   "file_extension": ".py",
   "mimetype": "text/x-python",
   "name": "python",
   "nbconvert_exporter": "python",
   "pygments_lexer": "ipython3",
   "version": "3.10.13"
  },
  "orig_nbformat": 4
 },
 "nbformat": 4,
 "nbformat_minor": 2
}
