{
 "cells": [
  {
   "cell_type": "markdown",
   "metadata": {},
   "source": [
    "### DAY 7 ASSIGNMENT"
   ]
  },
  {
   "cell_type": "markdown",
   "metadata": {},
   "source": [
    "#### Exercises: Level 1\n",
    "\n",
    "Q1. Find the length of the set it_companies\n",
    "\n",
    "Q2. Add 'Twitter' to it_companies\n",
    "\n",
    "Q3. Insert multiple IT companies at once to the set it_companies\n",
    "\n",
    "Q4. Remove one of the companies from the set it_companies\n",
    "\n",
    "Q5. What is the difference between remove and discard\n",
    "\n"
   ]
  },
  {
   "cell_type": "code",
   "execution_count": null,
   "metadata": {},
   "outputs": [],
   "source": [
    "it_companies = {'Facebook', 'Google', 'Microsoft', 'Apple', 'IBM', 'Oracle', 'Amazon'}\n",
    "\n",
    "# Find the length of the set it_companies\n",
    "len_it_companies = len(it_companies)\n",
    "\n",
    "# print result\n",
    "print(\"The length of it companies is:\", len_it_companies)\n",
    "\n",
    "# Add 'Twitter' to it_companies\n",
    "it_companies.update(\"Twitter\")\n",
    "\n",
    "# Insert multiple IT companies at once to the set it_companies\n",
    "it_companies.update(\"Samsung\", \"Intel\", \"LG\")\n",
    "\n",
    "# Remove one of the companies from the set it_companies\n",
    "it_companies.pop()\n",
    "\n",
    "print(it_companies)\n",
    "\n",
    "# What is the difference between remove and discard\n"
   ]
  },
  {
   "cell_type": "markdown",
   "metadata": {},
   "source": []
  }
 ],
 "metadata": {
  "kernelspec": {
   "display_name": "adsatesting",
   "language": "python",
   "name": "python3"
  },
  "language_info": {
   "name": "python",
   "version": "3.10.13"
  },
  "orig_nbformat": 4
 },
 "nbformat": 4,
 "nbformat_minor": 2
}
