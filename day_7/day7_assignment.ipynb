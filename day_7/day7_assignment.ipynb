{
 "cells": [
  {
   "cell_type": "markdown",
   "metadata": {},
   "source": [
    "### DAY 7 ASSIGNMENT"
   ]
  },
  {
   "cell_type": "markdown",
   "metadata": {},
   "source": [
    "#### Exercises: Level 1\n",
    "\n",
    "Q1. Find the length of the set it_companies\n",
    "\n",
    "Q2. Add 'Twitter' to it_companies\n",
    "\n",
    "Q3. Insert multiple IT companies at once to the set it_companies\n",
    "\n",
    "Q4. Remove one of the companies from the set it_companies\n",
    "\n",
    "Q5. What is the difference between remove and discard\n",
    "\n"
   ]
  },
  {
   "cell_type": "code",
   "execution_count": 23,
   "metadata": {},
   "outputs": [
    {
     "name": "stdout",
     "output_type": "stream",
     "text": [
      "The length of it companies is: 7\n",
      "The updated it comapany is: {'Microsoft', 'Twitter', 'LinkedIn', 'Apple', 'Facebook', 'Oracle', 'Netflix', 'Amazon', 'Google'} \n",
      "\n",
      "The difference is if the element to be removed is not present in the set,\n",
      "the remove method raises a KeyError, while the discard method does nothing\n"
     ]
    }
   ],
   "source": [
    "it_companies = {'Facebook', 'Google', 'Microsoft', 'Apple', 'IBM', 'Oracle', 'Amazon'}\n",
    "\n",
    "# Find the length of the set it_companies\n",
    "len_it_companies = len(it_companies)\n",
    "\n",
    "# print result\n",
    "print(\"The length of it companies is:\", len_it_companies)\n",
    "\n",
    "# Add 'Twitter' to it_companies\n",
    "it_companies.add(\"Twitter\")\n",
    "\n",
    "# Insert multiple IT companies at once to the set it_companies\n",
    "it_companies.update({'LinkedIn', 'Netflix', 'Twitter'})\n",
    "\n",
    "# Remove one of the companies from the set it_companies\n",
    "it_companies.remove(\"IBM\")\n",
    "\n",
    "print(\"The updated it comapany is:\",it_companies,\"\\n\")\n",
    "\n",
    "# What is the difference between remove and discard\n",
    "print(\"The difference is if the element to be removed is not present in the set,\\nthe remove method raises a KeyError, while the discard method does nothing\")\n"
   ]
  },
  {
   "cell_type": "markdown",
   "metadata": {},
   "source": [
    "#### Exercises: Level 2\n",
    "\n",
    "Q1. Join A and B\n",
    "\n",
    "Q2. Find A intersection B\n",
    "\n",
    "Q3. Is A subset of B\n",
    "\n",
    "Q4. Are A and B disjoint sets\n",
    "\n",
    "Q5. Join A with B and B with A\n",
    "\n",
    "Q6. What is the symmetric difference between A and B\n",
    "\n",
    "Q7. Delete the sets completely\n",
    "\n"
   ]
  },
  {
   "cell_type": "code",
   "execution_count": 14,
   "metadata": {},
   "outputs": [
    {
     "name": "stdout",
     "output_type": "stream",
     "text": [
      "The joined set A+B is: {19, 20, 22, 24, 25, 26, 27, 28}\n",
      "The intersection of A and B is: {19, 20, 22, 24, 25, 26}\n",
      "Is A subset of B? True\n",
      "Are A and B disjoint sets? False\n",
      "The joined set A and B is: {19, 20, 22, 24, 25, 26, 27, 28}\n",
      "The joined set B and A is: {19, 20, 22, 24, 25, 26, 27, 28}\n",
      "The symmetric_difference of A & B is: {27, 28}\n"
     ]
    }
   ],
   "source": [
    "\n",
    "A = {19, 22, 24, 20, 25, 26}\n",
    "B = {19, 22, 20, 25, 26, 24, 28, 27}\n",
    "\n",
    "#Join A and B\n",
    "joined_set = A.union(B)\n",
    "\n",
    "print(\"The joined set A+B is:\", joined_set)\n",
    "\n",
    "# Find A intersection B\n",
    "print(\"The intersection of A and B is:\", A.intersection(B))\n",
    "\n",
    "# Is A subset of B\n",
    "print(\"Is A subset of B?\", A.issubset(B))\n",
    "\n",
    "# Are A and B disjoint sets\n",
    "print(\"Are A and B disjoint sets?\", A.isdisjoint(B))\n",
    "\n",
    "# Join A with B and B with A\n",
    "joined_set = A.union(B)\n",
    "joined_set2 = B.union(A)\n",
    "\n",
    "print(\"The joined set A and B is:\", joined_set)\n",
    "print(\"The joined set B and A is:\", joined_set2)\n",
    "\n",
    "# What is the symmetric difference between A and B\n",
    "print(\"The symmetric_difference of A & B is:\", A.symmetric_difference(B))\n",
    "\n",
    "# Delete the sets completely\n",
    "del A,B"
   ]
  },
  {
   "cell_type": "markdown",
   "metadata": {},
   "source": [
    "#### Exercises: Level 3\n",
    "\n",
    "Q1. Convert the ages to a set and compare the length of the list and the set, which one is bigger?\n",
    "\n",
    "Q2. Explain the difference between the following data types: string, list, tuple and set\n"
   ]
  },
  {
   "cell_type": "code",
   "execution_count": 20,
   "metadata": {},
   "outputs": [
    {
     "name": "stdout",
     "output_type": "stream",
     "text": [
      "is length of age greater than length of set of age? True \n",
      "\n",
      "A string is a sequence of characters. It cannot change its individual elements once it is created.\n",
      "\n",
      "A list: Elements in a list can be changed, added, or removed after the list is created.\n",
      "\n",
      "Tuple:Once a tuple is created, you cannot modify its elements.\n",
      "\n",
      "Sets do not allow duplicate elements, and you can add or remove elements.\n",
      "\n"
     ]
    }
   ],
   "source": [
    "age = [22, 19, 24, 25, 26, 24, 25, 24]\n",
    "\n",
    "# Convert the ages to a set \n",
    "age_to_set = set(age)\n",
    "\n",
    "# compare the length of the list and the set, which one is bigger?\n",
    "len_age_to_set = len(age_to_set)\n",
    "len_age = len(age)\n",
    "\n",
    "len_compare = len_age > len_age_to_set\n",
    "\n",
    "print(\"is length of age greater than length of set of age?\",len_compare,\"\\n\")\n",
    "\n",
    "# Explain the difference between the following data types: string, list, tuple and set\n",
    "print(\"A string is a sequence of characters. It cannot change its individual elements once it is created.\\n\")\n",
    "\n",
    "print(\"A list: Elements in a list can be changed, added, or removed after the list is created.\\n\")\n",
    "\n",
    "print(\"Tuple:Once a tuple is created, you cannot modify its elements.\\n\")\n",
    "\n",
    "print(\"Sets do not allow duplicate elements, and you can add or remove elements.\\n\")\n",
    "\n"
   ]
  },
  {
   "cell_type": "markdown",
   "metadata": {},
   "source": [
    "Q3. I am a teacher and I love to inspire and teach people. How many unique words have been used in the sentence? Use the split methods and set to get the unique words.\n"
   ]
  },
  {
   "cell_type": "code",
   "execution_count": 21,
   "metadata": {},
   "outputs": [
    {
     "name": "stdout",
     "output_type": "stream",
     "text": [
      "Unique Words: {'teach', 'people.', 'inspire', 'a', 'I', 'and', 'love', 'to', 'teacher', 'am'}\n",
      "Number of Unique Words: 10\n"
     ]
    }
   ],
   "source": [
    "# Sentence\n",
    "sentence = \"I am a teacher and I love to inspire and teach people.\"\n",
    "\n",
    "# Split the sentence into words and create a set to get unique words\n",
    "unique_words = set(sentence.split())\n",
    "\n",
    "# Count the number of unique words\n",
    "num_unique_words = len(unique_words)\n",
    "\n",
    "# Print the results\n",
    "print(\"Unique Words:\", unique_words)\n",
    "print(\"Number of Unique Words:\", num_unique_words)\n"
   ]
  },
  {
   "cell_type": "markdown",
   "metadata": {},
   "source": [
    "\n",
    "#### END OF DAY 7"
   ]
  }
 ],
 "metadata": {
  "kernelspec": {
   "display_name": "adsatesting",
   "language": "python",
   "name": "python3"
  },
  "language_info": {
   "codemirror_mode": {
    "name": "ipython",
    "version": 3
   },
   "file_extension": ".py",
   "mimetype": "text/x-python",
   "name": "python",
   "nbconvert_exporter": "python",
   "pygments_lexer": "ipython3",
   "version": "3.10.13"
  },
  "orig_nbformat": 4
 },
 "nbformat": 4,
 "nbformat_minor": 2
}
