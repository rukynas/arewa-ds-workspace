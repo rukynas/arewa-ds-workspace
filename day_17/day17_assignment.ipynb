{
 "cells": [
  {
   "cell_type": "markdown",
   "metadata": {},
   "source": [
    "### Exercises: Day 17\n",
    "\n",
    "1. names = ['Finland', 'Sweden', 'Norway','Denmark','Iceland', 'Estonia','Russia']. Unpack the first five countries and store them in a variable nordic_countries, store Estonia and Russia in es, and ru respectively.\n"
   ]
  },
  {
   "cell_type": "code",
   "execution_count": 15,
   "metadata": {},
   "outputs": [
    {
     "name": "stdout",
     "output_type": "stream",
     "text": [
      "Nordic Countries: ['Finland', 'Sweden', 'Norway', 'Denmark', 'Iceland']\n",
      "Estonia: Estonia\n",
      "Russia: Russia\n"
     ]
    }
   ],
   "source": [
    "names = ['Finland', 'Sweden', 'Norway', 'Denmark', 'Iceland', 'Estonia', 'Russia']\n",
    "\n",
    "# Unpack the first five countries\n",
    "first_five_countries = names[:5]\n",
    "\n",
    "# Unpack Estonia and Russia\n",
    "es, ru, *other_countries = names[-2:]\n",
    "\n",
    "# Print the results\n",
    "print(\"Nordic Countries:\", first_five_countries)\n",
    "print(\"Estonia:\", es)\n",
    "print(\"Russia:\", ru)\n"
   ]
  },
  {
   "cell_type": "markdown",
   "metadata": {},
   "source": []
  }
 ],
 "metadata": {
  "kernelspec": {
   "display_name": "adsatesting",
   "language": "python",
   "name": "python3"
  },
  "language_info": {
   "codemirror_mode": {
    "name": "ipython",
    "version": 3
   },
   "file_extension": ".py",
   "mimetype": "text/x-python",
   "name": "python",
   "nbconvert_exporter": "python",
   "pygments_lexer": "ipython3",
   "version": "3.10.13"
  },
  "orig_nbformat": 4
 },
 "nbformat": 4,
 "nbformat_minor": 2
}
