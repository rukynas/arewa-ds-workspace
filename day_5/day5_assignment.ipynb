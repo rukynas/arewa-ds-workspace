{
 "cells": [
  {
   "cell_type": "markdown",
   "metadata": {},
   "source": [
    "### DAY 5 EXERCISES"
   ]
  },
  {
   "cell_type": "markdown",
   "metadata": {},
   "source": [
    "Q1. Declare an empty list\n",
    "\n",
    "Q2. Declare a list with more than 5 items\n",
    "\n",
    "Q3. Find the length of your list\n",
    "\n",
    "Q4. Get the first item, the middle item and the last item of the list"
   ]
  },
  {
   "cell_type": "code",
   "execution_count": 1,
   "metadata": {},
   "outputs": [
    {
     "name": "stdout",
     "output_type": "stream",
     "text": [
      "Empty list: []\n",
      "List with items: [12, 'apple', 34, 'girl', 'Python', 'baby']\n",
      "Length of the list: 6\n",
      "First item: 12\n",
      "Middle item: girl\n",
      "Last item: baby\n"
     ]
    }
   ],
   "source": [
    "# an empty list\n",
    "empty_list = []\n",
    "\n",
    "# a list with items\n",
    "mylist = [12, 'apple', 34, 'girl', 'Python', 'baby']\n",
    "\n",
    "# length of my list\n",
    "len_of_list = len(mylist)\n",
    "\n",
    "# Get the first item use index 0, the middle item(use // to get middle item), and the last item of the list use index -1\n",
    "first_item = mylist[0]\n",
    "middle_item = mylist[len_of_list // 2]  \n",
    "last_item = mylist[-1] \n",
    "\n",
    "# Print the results\n",
    "print(\"Empty list:\", empty_list)\n",
    "print(\"List with items:\", mylist)\n",
    "print(\"Length of the list:\", len_of_list)\n",
    "print(\"First item:\", first_item)\n",
    "print(\"Middle item:\", middle_item)\n",
    "print(\"Last item:\", last_item)\n"
   ]
  },
  {
   "cell_type": "markdown",
   "metadata": {},
   "source": [
    "Q5. Declare a list called mixed_data_types, put your(name, age, height, marital status, address)\n"
   ]
  },
  {
   "cell_type": "code",
   "execution_count": 2,
   "metadata": {},
   "outputs": [
    {
     "name": "stdout",
     "output_type": "stream",
     "text": [
      "mixed data: ['ruqayya', 32, 173, 'married', 'kano']\n"
     ]
    }
   ],
   "source": [
    "mixed_data_types = [\"ruqayya\", 32, 173, \"married\", \"kano\"]\n",
    "\n",
    "# print result\n",
    "print(f\"mixed data: {mixed_data_types}\")\n"
   ]
  },
  {
   "cell_type": "markdown",
   "metadata": {},
   "source": [
    "Q6. Declare a list variable named it_companies and assign initial values Facebook, Google, Microsoft, Apple, IBM, Oracle and Amazon.\n",
    "\n",
    "Q7. Print the list using print()\n",
    "\n",
    "Q8. Print the number of companies in the list\n",
    "\n",
    "Q9. Print the first, middle and last company\n",
    "\n"
   ]
  },
  {
   "cell_type": "code",
   "execution_count": null,
   "metadata": {},
   "outputs": [],
   "source": [
    "# Declare the list variable named it_companies\n",
    "it_companies = ['Facebook', 'Google', 'Microsoft', 'Apple', 'IBM', 'Oracle', 'Amazon']\n",
    "\n",
    "# Print the list using print()\n",
    "print(\"List of IT companies:\", it_companies)\n",
    "\n",
    "# Print the number of companies in the list\n",
    "number_of_companies = len(it_companies)\n",
    "print(\"Number of companies in the list:\", number_of_companies)\n",
    "\n",
    "# Print the first, middle, and last company\n",
    "first_company = it_companies[0]\n",
    "middle_company = it_companies[number_of_companies // 2]\n",
    "last_company = it_companies[-1]\n",
    "\n",
    "print(\"First company:\", first_company)\n",
    "print(\"Middle company:\", middle_company)\n",
    "print(\"Last company:\", last_company)\n"
   ]
  },
  {
   "cell_type": "markdown",
   "metadata": {},
   "source": [
    "Q10. Print the list after modifying one of the companies\n",
    "\n",
    "Q11. Add an IT company to it_companies\n",
    "\n",
    "Q12. Insert an IT company in the middle of the companies list"
   ]
  },
  {
   "cell_type": "code",
   "execution_count": 3,
   "metadata": {},
   "outputs": [
    {
     "name": "stdout",
     "output_type": "stream",
     "text": [
      "List of IT companies after modifying one company: ['Facebook', 'Google', 'Whatsapp', 'Apple', 'IBM', 'Oracle', 'Amazon']\n",
      "List of IT companies after adding a company: ['Facebook', 'Google', 'Whatsapp', 'Apple', 'IBM', 'Oracle', 'Amazon', 'Samsung']\n",
      "List of IT companies after inserting a company in the middle: ['Facebook', 'Google', 'Whatsapp', 'Apple', 'Intel', 'IBM', 'Oracle', 'Amazon', 'Samsung']\n"
     ]
    }
   ],
   "source": [
    "\n",
    "it_companies = ['Facebook', 'Google', 'Microsoft', 'Apple', 'IBM', 'Oracle', 'Amazon']\n",
    "\n",
    "\n",
    "# Modify one of the companies\n",
    "it_companies[2] = 'Whatsapp'\n",
    "\n",
    "# Print the list after modifying one of the companies\n",
    "print(\"List of IT companies after modifying one company:\", it_companies)\n",
    "\n",
    "# Add an IT company to it_companies\n",
    "it_companies.append('Samsung')\n",
    "\n",
    "# Print the list after adding an IT company\n",
    "print(\"List of IT companies after adding a company:\", it_companies)\n",
    "\n",
    "# Insert an IT company in the middle of the companies list\n",
    "middle_index = len(it_companies) // 2\n",
    "it_companies.insert(middle_index, 'Intel')\n",
    "\n",
    "# Print the list after inserting an IT company in the middle\n",
    "print(\"List of IT companies after inserting a company in the middle:\", it_companies)\n"
   ]
  },
  {
   "cell_type": "markdown",
   "metadata": {},
   "source": [
    "Q14. Change one of the it_companies names to uppercase (IBM excluded!)\n",
    "\n",
    "Q15. Join the it_companies with a string '#;  '\n",
    "\n",
    "Q16. Check if a certain company exists in the it_companies list.\n",
    "\n",
    "Q17. Sort the list using sort() method\n",
    "\n",
    "Q18. Reverse the list in descending order using reverse() method"
   ]
  },
  {
   "cell_type": "code",
   "execution_count": 5,
   "metadata": {},
   "outputs": [
    {
     "name": "stdout",
     "output_type": "stream",
     "text": [
      "List of IT companies after changing one name to uppercase: ['Facebook', 'GOOGLE', 'Twitter', 'Apple', 'IBM', 'Oracle', 'Amazon']\n",
      "Joined IT companies: Facebook#;  GOOGLE#;  Twitter#;  Apple#;  IBM#;  Oracle#;  Amazon\n",
      "The company Microsoft exist in the list of it companies? False\n",
      "List of IT companies after sorting: ['Amazon', 'Apple', 'Facebook', 'GOOGLE', 'IBM', 'Oracle', 'Twitter']\n",
      "List of IT companies after reversing in descending order: ['Twitter', 'Oracle', 'IBM', 'GOOGLE', 'Facebook', 'Apple', 'Amazon']\n"
     ]
    }
   ],
   "source": [
    "\n",
    "it_companies = ['Facebook', 'Google', 'Twitter', 'Apple', 'IBM', 'Oracle', 'Amazon']\n",
    "\n",
    "# Change one of the it_companies names to uppercase (IBM excluded!)\n",
    "it_companies[1] = it_companies[1].upper()\n",
    "\n",
    "# Print the list after modifying one of the company names\n",
    "print(\"List of IT companies after changing one name to uppercase:\", it_companies)\n",
    "\n",
    "# Join the it_companies with a string '#;  '\n",
    "joined_companies = '#;  '.join(it_companies)\n",
    "\n",
    "# Print the result\n",
    "print(\"Joined IT companies:\", joined_companies)\n",
    "\n",
    "# Check if a certain company exists in the it_companies list\n",
    "company_exists = 'Microsoft' in it_companies\n",
    "\n",
    "# Print the result\n",
    "print(f\"The company Microsoft exist in the list of it companies? {company_exists}\")\n",
    "\n",
    "# Sort the list\n",
    "it_companies.sort()\n",
    "\n",
    "# Print the list after sorting\n",
    "print(\"List of IT companies after sorting:\", it_companies)\n",
    "\n",
    "# Reverse the list in descending order using reverse() method\n",
    "it_companies.reverse()\n",
    "\n",
    "# Print the list after reversing in descending order\n",
    "print(\"List of IT companies after reversing in descending order:\", it_companies)\n"
   ]
  },
  {
   "cell_type": "markdown",
   "metadata": {},
   "source": [
    "\n",
    "Q19. Slice out the first 3 companies from the list\n",
    "\n",
    "Q20. Slice out the last 3 companies from the list\n",
    "\n",
    "Q21. Slice out the middle IT company or companies from the list\n",
    "\n",
    "Q22. Remove the first IT company from the list\n",
    "\n",
    "Q23. Remove the middle IT company or companies from the list\n",
    "\n",
    "Q24. Remove the last IT company from the list\n",
    "\n",
    "Q25. Remove all IT companies from the list\n",
    "\n",
    "Q26. Destroy the IT companies list\n"
   ]
  },
  {
   "cell_type": "code",
   "execution_count": 6,
   "metadata": {},
   "outputs": [
    {
     "name": "stdout",
     "output_type": "stream",
     "text": [
      "First 3 IT companies: ['Facebook', 'GOOGLE', 'Twitter']\n",
      "Last 3 IT companies: ['IBM', 'Oracle', 'Amazon']\n",
      "Middle IT company or companies: ['Twitter', 'Apple', 'IBM']\n",
      "List after removing the first IT company: ['GOOGLE', 'Twitter', 'Apple', 'IBM', 'Oracle', 'Amazon']\n",
      "List after removing the middle IT company or companies: ['GOOGLE', 'Twitter', 'Amazon']\n",
      "List after removing the last IT company: ['GOOGLE', 'Twitter']\n",
      "List after removing all IT companies: []\n"
     ]
    }
   ],
   "source": [
    "\n",
    "it_companies = ['Facebook', 'GOOGLE', 'Twitter', 'Apple', 'IBM', 'Oracle', 'Amazon']\n",
    "\n",
    "# Slice out the first 3 companies from the list\n",
    "first_three_companies = it_companies[:3]\n",
    "\n",
    "# Print the result\n",
    "print(\"First 3 IT companies:\", first_three_companies)\n",
    "\n",
    "# Slice out the last 3 companies from the list\n",
    "last_three_companies = it_companies[-3:]\n",
    "\n",
    "# Print the result\n",
    "print(\"Last 3 IT companies:\", last_three_companies)\n",
    "\n",
    "# Slice out the middle IT company or companies from the list\n",
    "middle_index = len(it_companies) // 2\n",
    "middle_companies = it_companies[middle_index - 1 : middle_index + 2]  \n",
    "\n",
    "# Print the result\n",
    "print(\"Middle IT company or companies:\", middle_companies)\n",
    "\n",
    "# Remove the first IT company from the list\n",
    "it_companies.pop(0)\n",
    "\n",
    "# Print the list after removing the first company\n",
    "print(\"List after removing the first IT company:\", it_companies)\n",
    "\n",
    "# Remove the middle IT company or companies from the list\n",
    "it_companies = it_companies[:middle_index - 1] + it_companies[middle_index + 2:]\n",
    "\n",
    "# Print the list after removing the middle company or companies\n",
    "print(\"List after removing the middle IT company or companies:\", it_companies)\n",
    "\n",
    "# Remove the last IT company from the list\n",
    "it_companies.pop()\n",
    "\n",
    "# Print the list after removing the last company\n",
    "print(\"List after removing the last IT company:\", it_companies)\n",
    "\n",
    "# Remove all IT companies from the list\n",
    "it_companies.clear()\n",
    "\n",
    "# Print the list after removing all IT companies\n",
    "print(\"List after removing all IT companies:\", it_companies)\n",
    "\n",
    "# Destroy the IT companies list\n",
    "del it_companies\n",
    "\n"
   ]
  },
  {
   "cell_type": "markdown",
   "metadata": {},
   "source": [
    "\n",
    "Q27. Join the following lists:\n",
    "\n",
    "front_end = ['HTML', 'CSS', 'JS', 'React', 'Redux']\n",
    "back_end = ['Node','Express', 'MongoDB']\n",
    "\n",
    "Q28. After joining the lists in question 26. Copy the joined list and assign it to a variable full_stack. Then insert Python and SQL after Redux.\n",
    "\n"
   ]
  },
  {
   "cell_type": "code",
   "execution_count": 9,
   "metadata": {},
   "outputs": [
    {
     "name": "stdout",
     "output_type": "stream",
     "text": [
      "The joined list is : ['HTML', 'CSS', 'JS', 'React', 'Redux', 'Node', 'Express', 'MongoDB']\n",
      " The Full Stack List is : ['HTML', 'CSS', 'JS', 'React', 'Redux', 'Python', 'SQL', 'Node', 'Express', 'MongoDB']\n"
     ]
    }
   ],
   "source": [
    "\n",
    "front_end = ['HTML', 'CSS', 'JS', 'React', 'Redux']\n",
    "back_end = ['Node','Express', 'MongoDB']\n",
    "\n",
    "# Join the lists above\n",
    "joined_list = front_end + back_end\n",
    "\n",
    "# print the result\n",
    "print(\"The joined list is :\", joined_list)\n",
    "\n",
    "# Copy the joined list and assign it to a variable full_stack\n",
    "full_stack = joined_list.copy()\n",
    "\n",
    "# Then insert Python and SQL after Redux\n",
    "insert_items = full_stack.index('Redux') + 1\n",
    "full_stack.insert(insert_items, 'Python')\n",
    "full_stack.insert(insert_items + 1, 'SQL')\n",
    "\n",
    "# print the result\n",
    "print(\" The Full Stack List is :\", full_stack)"
   ]
  },
  {
   "cell_type": "markdown",
   "metadata": {},
   "source": []
  },
  {
   "cell_type": "code",
   "execution_count": null,
   "metadata": {},
   "outputs": [],
   "source": []
  },
  {
   "cell_type": "markdown",
   "metadata": {},
   "source": []
  },
  {
   "cell_type": "code",
   "execution_count": null,
   "metadata": {},
   "outputs": [],
   "source": []
  },
  {
   "cell_type": "markdown",
   "metadata": {},
   "source": []
  },
  {
   "cell_type": "code",
   "execution_count": null,
   "metadata": {},
   "outputs": [],
   "source": []
  },
  {
   "cell_type": "markdown",
   "metadata": {},
   "source": []
  }
 ],
 "metadata": {
  "kernelspec": {
   "display_name": "adsatesting",
   "language": "python",
   "name": "python3"
  },
  "language_info": {
   "codemirror_mode": {
    "name": "ipython",
    "version": 3
   },
   "file_extension": ".py",
   "mimetype": "text/x-python",
   "name": "python",
   "nbconvert_exporter": "python",
   "pygments_lexer": "ipython3",
   "version": "3.10.13"
  },
  "orig_nbformat": 4
 },
 "nbformat": 4,
 "nbformat_minor": 2
}
