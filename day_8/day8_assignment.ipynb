{
 "cells": [
  {
   "cell_type": "markdown",
   "metadata": {},
   "source": [
    "### Exercises: Day 8"
   ]
  },
  {
   "cell_type": "markdown",
   "metadata": {},
   "source": [
    "1. Create an empty dictionary called dog\n",
    "   \n",
    "2. Add name, color, breed, legs, age to the dog dictionary\n",
    "   "
   ]
  },
  {
   "cell_type": "code",
   "execution_count": 4,
   "metadata": {},
   "outputs": [
    {
     "name": "stdout",
     "output_type": "stream",
     "text": [
      "Dog =  {'name': 'pal', 'color': 'Brown', 'breed': 'german sherpard', 'legs': '4', 'age': '3'}\n"
     ]
    }
   ],
   "source": [
    "# empty dict\n",
    "dog = {}\n",
    "\n",
    "# Add name, color, breed, legs, and age to the \"dog\" dictionary\n",
    "dog = {'name' : 'pal', 'color':'Brown','breed':'german sherpard','legs':'4', 'age' : '3' }\n",
    "\n",
    "print(\"Dog = \", dog)\n",
    "\n"
   ]
  },
  {
   "cell_type": "markdown",
   "metadata": {},
   "source": [
    "3. Create a student dictionary and add first_name, last_name, gender, age, marital status, skills, country, city and address as keys for the dictionary\n",
    "   \n",
    "4. Get the length of the student dictionary\n",
    "   "
   ]
  },
  {
   "cell_type": "code",
   "execution_count": 7,
   "metadata": {},
   "outputs": [
    {
     "name": "stdout",
     "output_type": "stream",
     "text": [
      "student =  {'first_name': 'Hannah', 'last_name': 'isa', 'gender': 'female', 'age': 25, 'marital_status': 'Single', 'skills': ['Python', 'SQL', 'Java'], 'country': 'Nigeria', 'city': 'Kano', 'address': 'Rzaki'}\n",
      "Length of the student Dictionary: 9\n"
     ]
    }
   ],
   "source": [
    "# Create a student dictionary\n",
    "student = {\n",
    "    'first_name': 'Hannah',\n",
    "    'last_name': 'isa',\n",
    "    'gender': 'female',\n",
    "    'age': 25,\n",
    "    'marital_status': 'Single',\n",
    "    'skills': ['Python','SQL', 'Java'],\n",
    "    'country': 'Nigeria',\n",
    "    'city': 'Kano',\n",
    "    'address': 'Rzaki'\n",
    "}\n",
    "\n",
    "# print result\n",
    "print(\"student = \", student)\n",
    "\n",
    "# Get the length of the student dictionary\n",
    "length_of_student_dict = len(student)\n",
    "\n",
    "# Print the results\n",
    "print(\"Length of the student Dictionary:\", length_of_student_dict)\n"
   ]
  },
  {
   "cell_type": "markdown",
   "metadata": {},
   "source": [
    "5. Get the value of skills and check the data type, it should be a list\n",
    "   \n",
    "6. Modify the skills values by adding one or two skills"
   ]
  },
  {
   "cell_type": "code",
   "execution_count": 11,
   "metadata": {},
   "outputs": [
    {
     "name": "stdout",
     "output_type": "stream",
     "text": [
      "Value of 'skills': ['Python', 'SQL', 'Java', 'React', 'Data Analysis', 'R', 'Data Analysis']\n",
      "Data Type of 'skills': <class 'list'>\n",
      "Modified 'skills' after adding skills: ['Python', 'SQL', 'Java', 'React', 'Data Analysis', 'R', 'Data Analysis', 'R', 'Data Analysis']\n"
     ]
    }
   ],
   "source": [
    "# Get the value of 'skills' from the student dictionary\n",
    "skills_value = student['skills']\n",
    "\n",
    "# Check the data type of 'skills'\n",
    "skills_data_type = type(skills_value)\n",
    "\n",
    "# Modify the skills values by adding one or two skills\n",
    "additional_skills = ['R', 'Data Analysis']\n",
    "updated_skill = student['skills'] + additional_skills\n",
    "\n",
    "# Print the results\n",
    "print(\"Value of 'skills':\", skills_value)\n",
    "print(\"Data Type of 'skills':\", skills_data_type)\n",
    "print(\"Modified 'skills' after adding skills:\", updated_skill)\n"
   ]
  },
  {
   "cell_type": "markdown",
   "metadata": {},
   "source": [
    "\n",
    "7. Get the dictionary keys as a list\n",
    "\n",
    "8. Get the dictionary values as a list\n",
    "\n",
    "9. Change the dictionary to a list of tuples using items() method\n",
    "\n",
    "10. Delete one of the items in the dictionary\n",
    "\n",
    "11. Delete one of the dictionaries\n",
    "    "
   ]
  },
  {
   "cell_type": "code",
   "execution_count": 12,
   "metadata": {},
   "outputs": [
    {
     "name": "stdout",
     "output_type": "stream",
     "text": [
      "Dictionary Keys as a List: ['first_name', 'last_name', 'gender', 'age', 'marital_status', 'skills', 'country', 'city', 'address']\n",
      "Dictionary Values as a List: ['Hannah', 'isa', 'female', 25, 'Single', ['Python', 'SQL', 'Java', 'React', 'Data Analysis', 'R', 'Data Analysis'], 'Nigeria', 'Kano', 'Rzaki']\n"
     ]
    }
   ],
   "source": [
    "# Get the dictionary keys as a list\n",
    "keys_list = list(student.keys())\n",
    "\n",
    "# Get the dictionary values as a list\n",
    "values_list = list(student.values())\n",
    "\n",
    "# Print the results\n",
    "print(\"Dictionary Keys as a List:\", keys_list)\n",
    "print(\"Dictionary Values as a List:\", values_list)\n"
   ]
  },
  {
   "cell_type": "code",
   "execution_count": 18,
   "metadata": {},
   "outputs": [
    {
     "name": "stdout",
     "output_type": "stream",
     "text": [
      "List of Tuples (key, value): [('first_name', 'Hannah'), ('last_name', 'isa'), ('gender', 'female'), ('age', 25), ('skills', ['Python', 'SQL', 'Java', 'React', 'Data Analysis', 'R', 'Data Analysis']), ('country', 'Nigeria'), ('city', 'Kano'), ('address', 'Rzaki')]\n",
      "\n",
      "New list of tuples = [('first_name', 'Hannah'), ('last_name', 'isa'), ('gender', 'female'), ('age', 25), ('skills', ['Python', 'SQL', 'Java', 'React', 'Data Analysis', 'R', 'Data Analysis']), ('country', 'Nigeria'), ('city', 'Kano'), ('address', 'Rzaki')]\n"
     ]
    }
   ],
   "source": [
    "# Change the dictionary to a list of tuples using items() method\n",
    "list_of_tuples = list(student.items())\n",
    "\n",
    "# Print the result\n",
    "print(\"List of Tuples (key, value):\", list_of_tuples)\n",
    "\n",
    "# Delete one of the items in the dictionary\n",
    "#key_to_delete = 'marital_status'\n",
    "\n",
    "#del student[key_to_delete]\n",
    "\n",
    "#print(f\"The key '{key_to_delete}' has been deleted from the dictionary.\")\n",
    "print(f\"\\nNew list of tuples = {list_of_tuples}\")\n",
    "\n",
    "# Delete the entire dictionary\n",
    "del student\n"
   ]
  },
  {
   "cell_type": "markdown",
   "metadata": {},
   "source": [
    "Marital status was deleted after running the code, re-running the code resulted in an error. Hence, i commented the codes.\n",
    "\n",
    "#### END OF DAY 8"
   ]
  }
 ],
 "metadata": {
  "kernelspec": {
   "display_name": "adsatesting",
   "language": "python",
   "name": "python3"
  },
  "language_info": {
   "codemirror_mode": {
    "name": "ipython",
    "version": 3
   },
   "file_extension": ".py",
   "mimetype": "text/x-python",
   "name": "python",
   "nbconvert_exporter": "python",
   "pygments_lexer": "ipython3",
   "version": "3.10.13"
  },
  "orig_nbformat": 4
 },
 "nbformat": 4,
 "nbformat_minor": 2
}
