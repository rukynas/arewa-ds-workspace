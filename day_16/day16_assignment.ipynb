{
 "cells": [
  {
   "cell_type": "markdown",
   "metadata": {},
   "source": [
    "### Exercises: Day 16"
   ]
  },
  {
   "cell_type": "markdown",
   "metadata": {},
   "source": [
    "1. Get the current day, month, year, hour, minute and timestamp from datetime module\n"
   ]
  },
  {
   "cell_type": "code",
   "execution_count": 1,
   "metadata": {},
   "outputs": [
    {
     "name": "stdout",
     "output_type": "stream",
     "text": [
      "Current Date and Time: 2024-01-08 14:36:15.595730\n",
      "Current Day: 8\n",
      "Current Month: 1\n",
      "Current Year: 2024\n",
      "Current Hour: 14\n",
      "Current Minute: 36\n",
      "Timestamp: 1704720975.59573\n"
     ]
    }
   ],
   "source": [
    "from datetime import datetime\n",
    "\n",
    "# Get current date and time\n",
    "current_datetime = datetime.now()\n",
    "\n",
    "current_day = current_datetime.day\n",
    "current_month = current_datetime.month\n",
    "current_year = current_datetime.year\n",
    "current_hour = current_datetime.hour\n",
    "current_minute = current_datetime.minute\n",
    "\n",
    "# Get timestamp\n",
    "timestamp = current_datetime.timestamp()\n",
    "\n",
    "# Print the results\n",
    "print(\"Current Date and Time:\", current_datetime)\n",
    "print(\"Current Day:\", current_day)\n",
    "print(\"Current Month:\", current_month)\n",
    "print(\"Current Year:\", current_year)\n",
    "print(\"Current Hour:\", current_hour)\n",
    "print(\"Current Minute:\", current_minute)\n",
    "print(\"Timestamp:\", timestamp)\n"
   ]
  },
  {
   "cell_type": "markdown",
   "metadata": {},
   "source": [
    "2. Format the current date using this format: \"%m/%d/%Y, %H:%M:%S\")\n"
   ]
  },
  {
   "cell_type": "code",
   "execution_count": 4,
   "metadata": {},
   "outputs": [
    {
     "name": "stdout",
     "output_type": "stream",
     "text": [
      "Formatted Date: 01/08/2024, 14:39:00\n"
     ]
    }
   ],
   "source": [
    "from datetime import datetime\n",
    "\n",
    "# Get current date and time\n",
    "current_datetime = datetime.now()\n",
    "\n",
    "formatted_date = current_datetime.strftime(\"%m/%d/%Y, %H:%M:%S\")\n",
    "\n",
    "# Print the result\n",
    "print(\"Formatted Date:\", formatted_date)\n"
   ]
  },
  {
   "cell_type": "markdown",
   "metadata": {},
   "source": [
    "3. Today is 5 December, 2019. Change this time string to time.\n"
   ]
  },
  {
   "cell_type": "code",
   "execution_count": 5,
   "metadata": {},
   "outputs": [
    {
     "name": "stdout",
     "output_type": "stream",
     "text": [
      "date_string = 5 December, 2019\n"
     ]
    }
   ],
   "source": [
    "from datetime import datetime\n",
    "\n",
    "date_string = \"5 December, 2019\"\n",
    "\n",
    "# print result\n",
    "print(\"date_string =\", date_string)"
   ]
  },
  {
   "cell_type": "markdown",
   "metadata": {},
   "source": [
    "4. Calculate the time difference between now and new year.\n"
   ]
  },
  {
   "cell_type": "code",
   "execution_count": 7,
   "metadata": {},
   "outputs": [
    {
     "name": "stdout",
     "output_type": "stream",
     "text": [
      "Time until New Year:  359 days, 0:00:00\n"
     ]
    }
   ],
   "source": [
    "from datetime import date\n",
    "\n",
    "today = date(year=2024, month=1, day=8)\n",
    "new_year = date(year=2025, month=1, day=1)\n",
    "\n",
    "# Calculate the time difference\n",
    "time_left_for_newyear = new_year - today\n",
    "\n",
    "print(\"Time until New Year: \", time_left_for_newyear)"
   ]
  },
  {
   "cell_type": "markdown",
   "metadata": {},
   "source": [
    "5. Calculate the time difference between 1 January 1970 and now.\n"
   ]
  },
  {
   "cell_type": "code",
   "execution_count": 9,
   "metadata": {},
   "outputs": [
    {
     "name": "stdout",
     "output_type": "stream",
     "text": [
      "Time difference is:  19730 days, 0:00:00\n"
     ]
    }
   ],
   "source": [
    "from datetime import date\n",
    "\n",
    "today = date(year=2024, month=1, day=8)\n",
    "another_year = date(year=1970, month=1, day=1)\n",
    "\n",
    "# Calculate the time difference\n",
    "time_diff = today-another_year \n",
    "\n",
    "print(\"Time difference is: \", time_diff)"
   ]
  },
  {
   "cell_type": "markdown",
   "metadata": {},
   "source": [
    "6. Think, what can you use the datetime module for? Examples:\n",
    "\n",
    "Time series analysis  \n",
    "To get a timestamp of any activities in an application  \n",
    "Adding posts on a blog  \n",
    " \n",
    " other examples\n",
    "\n",
    "Logging and Timestamping  \n",
    "Scheduling and Task Automation"
   ]
  },
  {
   "cell_type": "markdown",
   "metadata": {},
   "source": [
    "#### END"
   ]
  }
 ],
 "metadata": {
  "kernelspec": {
   "display_name": "adsatesting",
   "language": "python",
   "name": "python3"
  },
  "language_info": {
   "codemirror_mode": {
    "name": "ipython",
    "version": 3
   },
   "file_extension": ".py",
   "mimetype": "text/x-python",
   "name": "python",
   "nbconvert_exporter": "python",
   "pygments_lexer": "ipython3",
   "version": "3.10.13"
  },
  "orig_nbformat": 4
 },
 "nbformat": 4,
 "nbformat_minor": 2
}
