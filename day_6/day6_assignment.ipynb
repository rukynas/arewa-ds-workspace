{
 "cells": [
  {
   "cell_type": "markdown",
   "metadata": {},
   "source": [
    "### Exercises: Day 6"
   ]
  },
  {
   "cell_type": "markdown",
   "metadata": {},
   "source": [
    "#### Exercises: Level 1\n",
    "\n",
    "\n",
    "Q1. Create an empty tuple\n",
    "\n",
    "Q2. reate a tuple containing names of your sisters and your brothers (imaginary siblings are fine)\n",
    "\n",
    "Q3. Join brothers and sisters tuples and assign it to siblings\n",
    "\n",
    "Q4. How many siblings do you have?\n",
    "\n",
    "Q5. Modify the siblings tuple and add the name of your father and mother and assign it to family_members\n",
    "\n"
   ]
  },
  {
   "cell_type": "code",
   "execution_count": 1,
   "metadata": {},
   "outputs": [
    {
     "name": "stdout",
     "output_type": "stream",
     "text": [
      "Empty Tuple: ()\n",
      "Siblings Tuple: ('iro', 'muhd', 'hafsat', 'khadija', 'amina', 'rahma')\n",
      "Number of Siblings: 6\n",
      "Family Members Tuple: ('father', 'mother', 'iro', 'muhd', 'hafsat', 'khadija', 'amina', 'rahma')\n"
     ]
    }
   ],
   "source": [
    "# Create an empty tuple\n",
    "\n",
    "empty_tuple = ()\n",
    "\n",
    "# Create a tuple containing names of your sisters and your brothers\n",
    "sisters = ('hafsat', 'khadija', 'amina', 'rahma')\n",
    "brothers = ('iro', 'muhd')\n",
    "\n",
    "# Join brothers and sisters tuples and assign it to siblings\n",
    "siblings = brothers + sisters\n",
    "\n",
    "# How many siblings do you have?\n",
    "number_of_siblings = len(siblings)\n",
    "\n",
    "# Modify the siblings tuple and add the name of your father and mother and assign it to family_members\n",
    "parents = ('father', 'mother')\n",
    "family_members = parents + siblings\n",
    "\n",
    "# Print the results\n",
    "print(\"Empty Tuple:\", empty_tuple)\n",
    "print(\"Siblings Tuple:\", siblings)\n",
    "print(\"Number of Siblings:\", number_of_siblings)\n",
    "print(\"Family Members Tuple:\", family_members)\n"
   ]
  },
  {
   "cell_type": "markdown",
   "metadata": {},
   "source": [
    "#### Exercises: Level 2\n",
    "\n",
    "\n",
    "Q1.Unpack siblings and parents from family_members\n",
    "\n",
    "Q2. Create fruits, vegetables and animal products tuples. Join the three tuples and assign it to a variable called food_stuff_tp.\n",
    "\n",
    "Q3. Change the about food_stuff_tp tuple to a food_stuff_lt list\n",
    "\n",
    "Q4. Slice out the middle item or items from the food_stuff_tp tuple or food_stuff_lt list.\n",
    "\n",
    "Q5. Slice out the first three items and the last three items from food_staff_lt list\n",
    "\n",
    "Q6. Delete the food_staff_tp tuple completely\n",
    "\n",
    "Q7. Check if an item exists in tuple:\n",
    " Check if 'Estonia' is a nordic country\n",
    "\n",
    "Check if 'Iceland' is a nordic country\n",
    "\n",
    "nordic_countries = ('Denmark', 'Finland','Iceland', 'Norway', 'Sweden')"
   ]
  },
  {
   "cell_type": "code",
   "execution_count": 8,
   "metadata": {},
   "outputs": [
    {
     "name": "stdout",
     "output_type": "stream",
     "text": [
      "Fruits, Vegetables, and Animal Products List: ['Apple', 'Banana', 'Orange', 'Carrot', 'Spinach', 'Broccoli', 'Chicken', 'Eggs', 'Milk']\n",
      "Middle Item(s): Spinach\n",
      "First Three Items: ['Apple', 'Banana', 'Orange']\n",
      "Last Three Items: ['Chicken', 'Eggs', 'Milk']\n",
      "Is Estonia a Nordic Country? False\n",
      "Is Iceland a Nordic Country? True\n"
     ]
    }
   ],
   "source": [
    "family_members = ('father', 'mother', 'iro', 'muhd', 'hafsat', 'khadija', 'amina', 'rahma')\n",
    "\n",
    "# Unpack siblings and parents from family_members\n",
    "del family_members\n",
    "\n",
    "# Create fruits, vegetables, and animal products tuples\n",
    "fruits = ('Apple', 'Banana', 'Orange')\n",
    "vegetables = ('Carrot', 'Spinach', 'Broccoli')\n",
    "animal_products = ('Chicken', 'Eggs', 'Milk')\n",
    "\n",
    "# Join the three tuples and assign it to a variable called food_stuff_tp\n",
    "food_stuff_tp = fruits + vegetables + animal_products\n",
    "\n",
    "# Change the food_stuff_tp tuple to a food_stuff_lt list\n",
    "food_stuff_lt = list(food_stuff_tp)\n",
    "\n",
    "# Slice out the middle item or items from the food_stuff_tp tuple or food_stuff_lt list\n",
    "middle_index = len(food_stuff_lt) // 2\n",
    "middle_item = food_stuff_lt[middle_index] \n",
    "\n",
    "# Slice out the first three items and the last three items from the food_staff_lt list\n",
    "first_three_items = food_stuff_lt[:3]\n",
    "last_three_items = food_stuff_lt[-3:]\n",
    "\n",
    "# Delete the food_stuff_tp tuple completely\n",
    "del food_stuff_tp\n",
    "\n",
    "# Check if 'Estonia' is a Nordic country\n",
    "nordic_countries = ('Denmark', 'Finland', 'Iceland', 'Norway', 'Sweden')\n",
    "is_estonia_nordic = 'Estonia' in nordic_countries\n",
    "\n",
    "# Check if 'Iceland' is a Nordic country\n",
    "is_iceland_nordic = 'Iceland' in nordic_countries\n",
    "\n",
    "# Print the results\n",
    "print(\"Fruits, Vegetables, and Animal Products List:\", food_stuff_lt)\n",
    "print(\"Middle Item(s):\", middle_item)\n",
    "print(\"First Three Items:\", first_three_items)\n",
    "print(\"Last Three Items:\", last_three_items)\n",
    "print(\"Is Estonia a Nordic Country?\", is_estonia_nordic)\n",
    "print(\"Is Iceland a Nordic Country?\", is_iceland_nordic)\n"
   ]
  },
  {
   "cell_type": "markdown",
   "metadata": {},
   "source": []
  },
  {
   "cell_type": "code",
   "execution_count": null,
   "metadata": {},
   "outputs": [],
   "source": []
  },
  {
   "cell_type": "markdown",
   "metadata": {},
   "source": []
  },
  {
   "cell_type": "code",
   "execution_count": null,
   "metadata": {},
   "outputs": [],
   "source": []
  },
  {
   "cell_type": "markdown",
   "metadata": {},
   "source": []
  },
  {
   "cell_type": "code",
   "execution_count": null,
   "metadata": {},
   "outputs": [],
   "source": []
  },
  {
   "cell_type": "markdown",
   "metadata": {},
   "source": []
  },
  {
   "cell_type": "code",
   "execution_count": null,
   "metadata": {},
   "outputs": [],
   "source": []
  },
  {
   "cell_type": "markdown",
   "metadata": {},
   "source": []
  },
  {
   "cell_type": "code",
   "execution_count": null,
   "metadata": {},
   "outputs": [],
   "source": []
  },
  {
   "cell_type": "markdown",
   "metadata": {},
   "source": []
  },
  {
   "cell_type": "code",
   "execution_count": null,
   "metadata": {},
   "outputs": [],
   "source": []
  },
  {
   "cell_type": "markdown",
   "metadata": {},
   "source": []
  },
  {
   "cell_type": "code",
   "execution_count": null,
   "metadata": {},
   "outputs": [],
   "source": []
  },
  {
   "cell_type": "markdown",
   "metadata": {},
   "source": []
  },
  {
   "cell_type": "code",
   "execution_count": null,
   "metadata": {},
   "outputs": [],
   "source": []
  },
  {
   "cell_type": "markdown",
   "metadata": {},
   "source": []
  },
  {
   "cell_type": "code",
   "execution_count": null,
   "metadata": {},
   "outputs": [],
   "source": []
  },
  {
   "cell_type": "markdown",
   "metadata": {},
   "source": []
  },
  {
   "cell_type": "code",
   "execution_count": null,
   "metadata": {},
   "outputs": [],
   "source": []
  },
  {
   "cell_type": "markdown",
   "metadata": {},
   "source": []
  },
  {
   "cell_type": "code",
   "execution_count": null,
   "metadata": {},
   "outputs": [],
   "source": []
  },
  {
   "cell_type": "markdown",
   "metadata": {},
   "source": []
  },
  {
   "cell_type": "code",
   "execution_count": null,
   "metadata": {},
   "outputs": [],
   "source": []
  }
 ],
 "metadata": {
  "kernelspec": {
   "display_name": "adsatesting",
   "language": "python",
   "name": "python3"
  },
  "language_info": {
   "codemirror_mode": {
    "name": "ipython",
    "version": 3
   },
   "file_extension": ".py",
   "mimetype": "text/x-python",
   "name": "python",
   "nbconvert_exporter": "python",
   "pygments_lexer": "ipython3",
   "version": "3.10.13"
  },
  "orig_nbformat": 4
 },
 "nbformat": 4,
 "nbformat_minor": 2
}
