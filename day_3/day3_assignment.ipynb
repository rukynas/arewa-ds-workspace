{
 "cells": [
  {
   "cell_type": "markdown",
   "metadata": {},
   "source": [
    "### EXERCISE DAY 3"
   ]
  },
  {
   "cell_type": "code",
   "execution_count": 1,
   "metadata": {},
   "outputs": [
    {
     "name": "stdout",
     "output_type": "stream",
     "text": [
      "Age: 32\n",
      "Height: 173\n",
      "Complex Number: (2+4j)\n"
     ]
    }
   ],
   "source": [
    "my_age = 32\n",
    "my_height = 173\n",
    "complex_number = 2 + 4j  \n",
    "\n",
    "print(\"Age:\", my_age)\n",
    "print(\"Height:\", my_height)\n",
    "print(\"Complex Number:\", complex_number)"
   ]
  },
  {
   "cell_type": "markdown",
   "metadata": {},
   "source": [
    "ASK FOR USER INPUT TO CALCULATE AREA"
   ]
  },
  {
   "cell_type": "code",
   "execution_count": 5,
   "metadata": {},
   "outputs": [
    {
     "name": "stdout",
     "output_type": "stream",
     "text": [
      "The area of the triangle is  3.0\n"
     ]
    }
   ],
   "source": [
    "# ask user input\n",
    "base = float(input(\"Enter the base of the triangle: \"))\n",
    "height = float(input(\"Enter the height of the triangle: \"))\n",
    "\n",
    "area = 0.5 * base * height\n",
    "\n",
    "# print the result\n",
    "print(\"The area of the triangle is \",area)\n"
   ]
  },
  {
   "cell_type": "markdown",
   "metadata": {},
   "source": [
    "CALCULATE PERIMETER OF TRIANGLE WITH USER INPUT"
   ]
  },
  {
   "cell_type": "code",
   "execution_count": 3,
   "metadata": {},
   "outputs": [
    {
     "name": "stdout",
     "output_type": "stream",
     "text": [
      "The perimeter of the triangle is  8.0\n"
     ]
    }
   ],
   "source": [
    "side_a = float(input(\"Enter side a: \"))\n",
    "side_b = float(input(\"Enter side b: \"))\n",
    "side_c = float(input(\"Enter side c: \"))\n",
    "\n",
    "perimeter = side_a + side_b + side_c\n",
    "\n",
    "# print the result\n",
    "print(\"The perimeter of the triangle is \",perimeter)"
   ]
  },
  {
   "cell_type": "markdown",
   "metadata": {},
   "source": [
    "CALCULATE AREA & PERIMETER OF RECTANGLE WITH USER INPUT"
   ]
  },
  {
   "cell_type": "code",
   "execution_count": 6,
   "metadata": {},
   "outputs": [
    {
     "name": "stdout",
     "output_type": "stream",
     "text": [
      "The area of the rectangle is  10.0\n",
      "The perimeter of the rectangle is  14.0\n"
     ]
    }
   ],
   "source": [
    "\n",
    "length = float(input(\"Enter the length of the rectangle: \"))\n",
    "width = float(input(\"Enter the width of the rectangle: \"))\n",
    "\n",
    "area = length * width\n",
    "\n",
    "perimeter = 2 * (length + width)\n",
    "\n",
    "# Print the results\n",
    "print(\"The area of the rectangle is \",area)\n",
    "print(\"The perimeter of the rectangle is \",perimeter)\n"
   ]
  },
  {
   "cell_type": "markdown",
   "metadata": {},
   "source": [
    "CALCULATE AREA AND CIRCUMFERENCE OF A CIRCLE WITH RADIUS AS USER INPUT"
   ]
  },
  {
   "cell_type": "code",
   "execution_count": 8,
   "metadata": {},
   "outputs": [
    {
     "name": "stdout",
     "output_type": "stream",
     "text": [
      "The area of the circle is  50.24\n",
      "The circumference of the circle is  25.12\n"
     ]
    }
   ],
   "source": [
    "pi = 3.14\n",
    "\n",
    "radius = float(input(\"Enter the radius of the circle: \"))\n",
    "\n",
    "# Calculate the area of the circle\n",
    "area = pi * radius**2\n",
    "\n",
    "# Calculate the circumference of circle\n",
    "circumference = 2 * pi * radius\n",
    "\n",
    "print(\"The area of the circle is \",area)\n",
    "print(\"The circumference of the circle is \",circumference)\n"
   ]
  },
  {
   "cell_type": "markdown",
   "metadata": {},
   "source": [
    "CALCULATE SLOPE X-INTERCEPT AND Y-INTERCEPT FOR THE EQUATION y=2x−2"
   ]
  },
  {
   "cell_type": "code",
   "execution_count": 10,
   "metadata": {},
   "outputs": [
    {
     "name": "stdout",
     "output_type": "stream",
     "text": [
      "Slope (a): 2\n",
      "X-intercept: 1.0\n",
      "Y-intercept: -2\n"
     ]
    }
   ],
   "source": [
    "#Y-intercept= -2 when x=0 and X-intercept= 1 when y=0 \n",
    "# Given equation: y = 2x - 2\n",
    "\n",
    "a = 2  # Slope\n",
    "b = -2  # y-intercept\n",
    "\n",
    "# Calculate the x-intercept (where y = 0)\n",
    "x_intercept = -b / a\n",
    "\n",
    "# Calculate the y-intercept (where x = 0)\n",
    "y_intercept = b\n",
    "\n",
    "print(\"Slope (a):\", a)\n",
    "print(\"X-intercept:\", x_intercept)\n",
    "print(\"Y-intercept:\", y_intercept)\n"
   ]
  },
  {
   "cell_type": "markdown",
   "metadata": {},
   "source": [
    "FIND SLOPE AND EUCLIDEAN DISTANCE\n"
   ]
  },
  {
   "cell_type": "code",
   "execution_count": 11,
   "metadata": {},
   "outputs": [
    {
     "name": "stdout",
     "output_type": "stream",
     "text": [
      "Slope is  2.0\n",
      "Euclidean is  8.94427190999916\n"
     ]
    }
   ],
   "source": [
    "# Slope is (m = y2-y1/x2-x1). Find the slope and Euclidean distance between point (2, 2) and point (6,10)\n",
    "\n",
    "import math\n",
    "\n",
    "# Given points\n",
    "x1, y1 = 2, 2\n",
    "x2, y2 = 6, 10\n",
    "\n",
    "slope = (y2 - y1) / (x2 - x1)\n",
    "\n",
    "# Calculate the Euclidean dist\n",
    "distance = math.sqrt((x2 - x1)**2 + (y2 - y1)**2)\n",
    "\n",
    "# Display the results\n",
    "print(\"Slope is \", slope)\n",
    "print(\"Euclidean is \", distance)\n"
   ]
  },
  {
   "cell_type": "markdown",
   "metadata": {},
   "source": [
    "COMPARE THE TWO SLOPE ABOVE"
   ]
  },
  {
   "cell_type": "code",
   "execution_count": 12,
   "metadata": {},
   "outputs": [
    {
     "name": "stdout",
     "output_type": "stream",
     "text": [
      "The slopes are equal.\n"
     ]
    }
   ],
   "source": [
    "\n",
    "#Slope using (y2 - y1) / (x2 - x1) is 2.0\n",
    "#Slope using equation y = 2x - 2 is 2\n",
    "\n",
    "slope_a = 2.0\n",
    "slope_b = 2\n",
    "\n",
    "# Compare the slopes\n",
    "if slope_a == slope_b:\n",
    "    print(\"The slopes are equal.\")\n",
    "else:\n",
    "    print(\"The slopes are not equal.\")\n"
   ]
  },
  {
   "cell_type": "markdown",
   "metadata": {},
   "source": [
    "ITERATION "
   ]
  },
  {
   "cell_type": "code",
   "execution_count": 15,
   "metadata": {},
   "outputs": [
    {
     "name": "stdout",
     "output_type": "stream",
     "text": [
      "For x = -5, y = 4\n",
      "For x = -4, y = 1\n",
      "For x = -3, y = 0\n",
      "At x = -3, y is equal to 0.\n"
     ]
    }
   ],
   "source": [
    "# Calculate the value of y (y = x^2 + 6x + 9). What x value y is going to be 0\n",
    "# Iterate through different x values and find where y is 0\n",
    "\n",
    "for x in range(-5, 5): \n",
    "    y = x**2 + 6*x + 9\n",
    "    print(f\"For x = {x}, y = {y}\")\n",
    "\n",
    "    # Check if y is 0\n",
    "    if y == 0:\n",
    "        print(f\"At x = {x}, y is equal to 0.\")\n",
    "        break # breaks the loop when y = 0\n"
   ]
  }
 ],
 "metadata": {
  "kernelspec": {
   "display_name": "adsatesting",
   "language": "python",
   "name": "python3"
  },
  "language_info": {
   "codemirror_mode": {
    "name": "ipython",
    "version": 3
   },
   "file_extension": ".py",
   "mimetype": "text/x-python",
   "name": "python",
   "nbconvert_exporter": "python",
   "pygments_lexer": "ipython3",
   "version": "3.10.13"
  },
  "orig_nbformat": 4
 },
 "nbformat": 4,
 "nbformat_minor": 2
}
