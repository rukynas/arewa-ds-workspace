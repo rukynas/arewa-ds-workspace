{
 "cells": [
  {
   "cell_type": "markdown",
   "metadata": {},
   "source": [
    "### EXERCISE DAY 3"
   ]
  },
  {
   "cell_type": "code",
   "execution_count": 1,
   "metadata": {},
   "outputs": [
    {
     "name": "stdout",
     "output_type": "stream",
     "text": [
      "Age: 32\n",
      "Height: 173\n",
      "Complex Number: (2+4j)\n"
     ]
    }
   ],
   "source": [
    "my_age = 32\n",
    "my_height = 173\n",
    "complex_number = 2 + 4j  \n",
    "\n",
    "print(\"Age:\", my_age)\n",
    "print(\"Height:\", my_height)\n",
    "print(\"Complex Number:\", complex_number)"
   ]
  },
  {
   "cell_type": "markdown",
   "metadata": {},
   "source": [
    "ASK FOR USER INPUT TO CALCULATE AREA"
   ]
  },
  {
   "cell_type": "code",
   "execution_count": 5,
   "metadata": {},
   "outputs": [
    {
     "name": "stdout",
     "output_type": "stream",
     "text": [
      "The area of the triangle is  3.0\n"
     ]
    }
   ],
   "source": [
    "# ask user input\n",
    "base = float(input(\"Enter the base of the triangle: \"))\n",
    "height = float(input(\"Enter the height of the triangle: \"))\n",
    "\n",
    "area = 0.5 * base * height\n",
    "\n",
    "# print the result\n",
    "print(\"The area of the triangle is \",area)\n"
   ]
  },
  {
   "cell_type": "markdown",
   "metadata": {},
   "source": [
    "CALCULATE PERIMETER OF TRIANGLE WITH USER INPUT"
   ]
  },
  {
   "cell_type": "code",
   "execution_count": 3,
   "metadata": {},
   "outputs": [
    {
     "name": "stdout",
     "output_type": "stream",
     "text": [
      "The perimeter of the triangle is  8.0\n"
     ]
    }
   ],
   "source": [
    "side_a = float(input(\"Enter side a: \"))\n",
    "side_b = float(input(\"Enter side b: \"))\n",
    "side_c = float(input(\"Enter side c: \"))\n",
    "\n",
    "perimeter = side_a + side_b + side_c\n",
    "\n",
    "# print the result\n",
    "print(\"The perimeter of the triangle is \",perimeter)"
   ]
  },
  {
   "cell_type": "markdown",
   "metadata": {},
   "source": [
    "CALCULATE AREA & PERIMETER OF RECTANGLE WITH USER INPUT"
   ]
  },
  {
   "cell_type": "code",
   "execution_count": 6,
   "metadata": {},
   "outputs": [
    {
     "name": "stdout",
     "output_type": "stream",
     "text": [
      "The area of the rectangle is  10.0\n",
      "The perimeter of the rectangle is  14.0\n"
     ]
    }
   ],
   "source": [
    "\n",
    "length = float(input(\"Enter the length of the rectangle: \"))\n",
    "width = float(input(\"Enter the width of the rectangle: \"))\n",
    "\n",
    "area = length * width\n",
    "\n",
    "perimeter = 2 * (length + width)\n",
    "\n",
    "# Print the results\n",
    "print(\"The area of the rectangle is \",area)\n",
    "print(\"The perimeter of the rectangle is \",perimeter)\n"
   ]
  },
  {
   "cell_type": "markdown",
   "metadata": {},
   "source": [
    "CALCULATE AREA AND CIRCUMFERENCE OF A CIRCLE WITH RADIUS AS USER INPUT"
   ]
  },
  {
   "cell_type": "code",
   "execution_count": 8,
   "metadata": {},
   "outputs": [
    {
     "name": "stdout",
     "output_type": "stream",
     "text": [
      "The area of the circle is  50.24\n",
      "The circumference of the circle is  25.12\n"
     ]
    }
   ],
   "source": [
    "pi = 3.14\n",
    "\n",
    "radius = float(input(\"Enter the radius of the circle: \"))\n",
    "\n",
    "# Calculate the area of the circle\n",
    "area = pi * radius**2\n",
    "\n",
    "# Calculate the circumference of circle\n",
    "circumference = 2 * pi * radius\n",
    "\n",
    "print(\"The area of the circle is \",area)\n",
    "print(\"The circumference of the circle is \",circumference)\n"
   ]
  },
  {
   "cell_type": "markdown",
   "metadata": {},
   "source": [
    "CALCULATE SLOPE X-INTERCEPT AND Y-INTERCEPT FOR THE EQUATION y=2x−2"
   ]
  },
  {
   "cell_type": "code",
   "execution_count": 10,
   "metadata": {},
   "outputs": [
    {
     "name": "stdout",
     "output_type": "stream",
     "text": [
      "Slope (a): 2\n",
      "X-intercept: 1.0\n",
      "Y-intercept: -2\n"
     ]
    }
   ],
   "source": [
    "#Y-intercept= -2 when x=0 and X-intercept= 1 when y=0 \n",
    "# Given equation: y = 2x - 2\n",
    "\n",
    "a = 2  # Slope\n",
    "b = -2  # y-intercept\n",
    "\n",
    "# Calculate the x-intercept (where y = 0)\n",
    "x_intercept = -b / a\n",
    "\n",
    "# Calculate the y-intercept (where x = 0)\n",
    "y_intercept = b\n",
    "\n",
    "print(\"Slope (a):\", a)\n",
    "print(\"X-intercept:\", x_intercept)\n",
    "print(\"Y-intercept:\", y_intercept)\n"
   ]
  },
  {
   "cell_type": "markdown",
   "metadata": {},
   "source": [
    "FIND SLOPE AND EUCLIDEAN DISTANCE\n"
   ]
  },
  {
   "cell_type": "code",
   "execution_count": 11,
   "metadata": {},
   "outputs": [
    {
     "name": "stdout",
     "output_type": "stream",
     "text": [
      "Slope is  2.0\n",
      "Euclidean is  8.94427190999916\n"
     ]
    }
   ],
   "source": [
    "# Slope is (m = y2-y1/x2-x1). Find the slope and Euclidean distance between point (2, 2) and point (6,10)\n",
    "\n",
    "import math\n",
    "\n",
    "# Given points\n",
    "x1, y1 = 2, 2\n",
    "x2, y2 = 6, 10\n",
    "\n",
    "slope = (y2 - y1) / (x2 - x1)\n",
    "\n",
    "# Calculate the Euclidean dist\n",
    "distance = math.sqrt((x2 - x1)**2 + (y2 - y1)**2)\n",
    "\n",
    "# Display the results\n",
    "print(\"Slope is \", slope)\n",
    "print(\"Euclidean is \", distance)\n"
   ]
  },
  {
   "cell_type": "markdown",
   "metadata": {},
   "source": [
    "COMPARE THE TWO SLOPE ABOVE"
   ]
  },
  {
   "cell_type": "code",
   "execution_count": 12,
   "metadata": {},
   "outputs": [
    {
     "name": "stdout",
     "output_type": "stream",
     "text": [
      "The slopes are equal.\n"
     ]
    }
   ],
   "source": [
    "\n",
    "#Slope using (y2 - y1) / (x2 - x1) is 2.0\n",
    "#Slope using equation y = 2x - 2 is 2\n",
    "\n",
    "slope_a = 2.0\n",
    "slope_b = 2\n",
    "\n",
    "# Compare the slopes\n",
    "if slope_a == slope_b:\n",
    "    print(\"The slopes are equal.\")\n",
    "else:\n",
    "    print(\"The slopes are not equal.\")\n"
   ]
  },
  {
   "cell_type": "markdown",
   "metadata": {},
   "source": [
    "ITERATION "
   ]
  },
  {
   "cell_type": "code",
   "execution_count": 15,
   "metadata": {},
   "outputs": [
    {
     "name": "stdout",
     "output_type": "stream",
     "text": [
      "For x = -5, y = 4\n",
      "For x = -4, y = 1\n",
      "For x = -3, y = 0\n",
      "At x = -3, y is equal to 0.\n"
     ]
    }
   ],
   "source": [
    "# Calculate the value of y (y = x^2 + 6x + 9). What x value y is going to be 0\n",
    "# Iterate through different x values and find where y is 0\n",
    "\n",
    "for x in range(-5, 5): \n",
    "    y = x**2 + 6*x + 9\n",
    "    print(f\"For x = {x}, y = {y}\")\n",
    "\n",
    "    # Check if y is 0\n",
    "    if y == 0:\n",
    "        print(f\"At x = {x}, y is equal to 0.\")\n",
    "        break # breaks the loop when y = 0\n"
   ]
  },
  {
   "cell_type": "markdown",
   "metadata": {},
   "source": [
    "FALSY COMPARISON"
   ]
  },
  {
   "cell_type": "code",
   "execution_count": 16,
   "metadata": {},
   "outputs": [
    {
     "name": "stdout",
     "output_type": "stream",
     "text": [
      "The length of 'python' is 6\n",
      "The length of 'dragon' is 6\n",
      "The lengths are not equal: False\n"
     ]
    }
   ],
   "source": [
    "length_python = len('python')\n",
    "length_dragon = len('dragon')\n",
    "\n",
    "# Falsy comparison\n",
    "falsycomparison = length_python != length_dragon\n",
    "\n",
    "# Display the lengths and the falsy comparison result\n",
    "print(f\"The length of 'python' is {length_python}\")\n",
    "print(f\"The length of 'dragon' is {length_dragon}\")\n",
    "print(f\"The lengths are not equal: {falsycomparison}\")\n"
   ]
  },
  {
   "cell_type": "markdown",
   "metadata": {},
   "source": [
    "CHECK IF \"ON\" IS IN BOTH DRAGON AND PYTHON"
   ]
  },
  {
   "cell_type": "code",
   "execution_count": 18,
   "metadata": {},
   "outputs": [
    {
     "name": "stdout",
     "output_type": "stream",
     "text": [
      "'on' in 'python': True\n",
      "'on' in 'dragon': True\n",
      "Both 'python' and 'dragon' contain 'on': True\n"
     ]
    }
   ],
   "source": [
    "is_on_in_python = 'on' in 'python'\n",
    "is_on_in_dragon = 'on' in 'dragon'\n",
    "\n",
    "# and operator is used for the conditions\n",
    "both_have_on = is_on_in_python and is_on_in_dragon\n",
    "\n",
    "# Display the results\n",
    "print(\"'on' in 'python':\",is_on_in_python)\n",
    "print(\"'on' in 'dragon':\", is_on_in_dragon)\n",
    "print(\"Both 'python' and 'dragon' contain 'on':\", both_have_on)\n"
   ]
  },
  {
   "cell_type": "markdown",
   "metadata": {},
   "source": [
    "CHECK IF JARGON IS IN SENTENCE GIVEN"
   ]
  },
  {
   "cell_type": "code",
   "execution_count": 21,
   "metadata": {},
   "outputs": [
    {
     "name": "stdout",
     "output_type": "stream",
     "text": [
      "'I hope this course is not full of jargon' contains the word 'JARGON':  True\n"
     ]
    }
   ],
   "source": [
    "jargon_in_sentence = \"jargon\" in \"I hope this course is not full of jargon\"\n",
    "\n",
    "# print result\n",
    "print(\"'I hope this course is not full of jargon' contains the word 'JARGON': \", jargon_in_sentence)"
   ]
  },
  {
   "cell_type": "markdown",
   "metadata": {},
   "source": [
    "USING THE NOT OPERATOR"
   ]
  },
  {
   "cell_type": "code",
   "execution_count": 23,
   "metadata": {},
   "outputs": [
    {
     "name": "stdout",
     "output_type": "stream",
     "text": [
      "'on' is not in 'python': False\n",
      "'on' is not in 'dragon': False\n",
      "Both 'python' and 'dragon' does not contain 'on': False\n"
     ]
    }
   ],
   "source": [
    "on_not_in_python = 'on' not in 'python'\n",
    "on_not_in_dragon = 'on' not in 'dragon'\n",
    "\n",
    "# not operator is used for the conditions\n",
    "both_have_no_on = on_not_in_python and on_not_in_dragon\n",
    "\n",
    "# Display the results\n",
    "print(\"'on' is not in 'python':\",on_not_in_python)\n",
    "print(\"'on' is not in 'dragon':\", on_not_in_dragon)\n",
    "print(\"Both 'python' and 'dragon' does not contain 'on':\", both_have_no_on)"
   ]
  },
  {
   "cell_type": "markdown",
   "metadata": {},
   "source": [
    "CONVERT TO FLOAT AND STRING"
   ]
  },
  {
   "cell_type": "code",
   "execution_count": 24,
   "metadata": {},
   "outputs": [
    {
     "name": "stdout",
     "output_type": "stream",
     "text": [
      "Length of 'python': 6\n",
      "Length as float: 6.0\n",
      "Length as string: 6.0\n"
     ]
    }
   ],
   "source": [
    "len_of_python = len('python')\n",
    "\n",
    "# Convert to float and string\n",
    "len_as_float = float(len_of_python)\n",
    "len_as_string = str(len_as_float)\n",
    "\n",
    "# Display the results\n",
    "print(\"Length of 'python':\", len_of_python)\n",
    "print(\"Length as float:\", len_as_float)\n",
    "print(\"Length as string:\", len_as_string)\n"
   ]
  },
  {
   "cell_type": "markdown",
   "metadata": {},
   "source": [
    "CHECK IF NUMBER IS EVEN OR NOT"
   ]
  },
  {
   "cell_type": "code",
   "execution_count": 33,
   "metadata": {},
   "outputs": [
    {
     "name": "stdout",
     "output_type": "stream",
     "text": [
      "55 is even?  False\n"
     ]
    }
   ],
   "source": [
    "# Ask user for input\n",
    "user_input = input(\"Enter an integer number: \")\n",
    "\n",
    "#check for remainder\n",
    "num1 = int(user_input) % 2 == 0\n",
    "\n",
    "print(user_input, \"is even? \",num1)\n",
    "\n"
   ]
  },
  {
   "cell_type": "markdown",
   "metadata": {},
   "source": [
    "FLOOR DIVISION AND COMPARISON"
   ]
  },
  {
   "cell_type": "code",
   "execution_count": 35,
   "metadata": {},
   "outputs": [
    {
     "name": "stdout",
     "output_type": "stream",
     "text": [
      "Floor division of 7 by 3 is  2\n",
      "Integer converted value of 2.7 is  2\n",
      "Are they equal?  True\n"
     ]
    }
   ],
   "source": [
    "\n",
    "floor_division = 7 // 3\n",
    "\n",
    "# Convert 2.7 to an integer\n",
    "int_of_2_7 = int(2.7)\n",
    "\n",
    "# Compare floor division result is equal to the integer-converted value of 2.7\n",
    "is_equal = floor_division == int_of_2_7\n",
    "\n",
    "print(\"Floor division of 7 by 3 is \",floor_division)\n",
    "print(\"Integer converted value of 2.7 is \",int_of_2_7)\n",
    "print(\"Are they equal? \",is_equal)\n"
   ]
  },
  {
   "cell_type": "markdown",
   "metadata": {},
   "source": [
    "CHECK TYPE AND COMPARE RESULT: Q19 AND Q20"
   ]
  },
  {
   "cell_type": "code",
   "execution_count": 36,
   "metadata": {},
   "outputs": [
    {
     "name": "stdout",
     "output_type": "stream",
     "text": [
      "Type of '10' is equal to type of 10:  False\n",
      "int('9.8') is equal to 10:  False\n"
     ]
    }
   ],
   "source": [
    "# Check if type of '10' is equal to type of 10\n",
    "type_check = type('10') == type(10)\n",
    "\n",
    "# Check if int('9.8') is equal to 10\n",
    "conversion_check = int(float('9.8')) == 10\n",
    "\n",
    "# print results\n",
    "print(\"Type of '10' is equal to type of 10: \",type_check)\n",
    "print(\"int('9.8') is equal to 10: \",conversion_check)\n"
   ]
  },
  {
   "cell_type": "markdown",
   "metadata": {},
   "source": [
    "ASK USER FOR INPUT FOR HOURS WORKED AND RATE PER HOUR TO CALCULATE PAY"
   ]
  },
  {
   "cell_type": "code",
   "execution_count": 38,
   "metadata": {},
   "outputs": [
    {
     "name": "stdout",
     "output_type": "stream",
     "text": [
      "Your weekly earning is  64.0\n"
     ]
    }
   ],
   "source": [
    "# Ask user hours worked and rate per hour\n",
    "hours_worked = input(\"Enter hours worked: \")\n",
    "rate_per_hour = input(\"Enter rate per hour: \")\n",
    "\n",
    "weekly_earning = float(hours_worked) * float(rate_per_hour)\n",
    "\n",
    "# print the result\n",
    "print(\"Your weekly earning is \",weekly_earning)\n"
   ]
  },
  {
   "cell_type": "markdown",
   "metadata": {},
   "source": [
    "CALCULATE NUMBER OF SECONDS A PERSON CAN LIVE"
   ]
  },
  {
   "cell_type": "code",
   "execution_count": 40,
   "metadata": {},
   "outputs": [
    {
     "name": "stdout",
     "output_type": "stream",
     "text": [
      "You have lived for  1767225600 seconds.\n"
     ]
    }
   ],
   "source": [
    "# Ask user to enter the number of years lived\n",
    "years_lived = input(\"Enter the number of years you have lived: \")\n",
    "\n",
    "# Assume a person can live 100 years\n",
    "total_years = 100\n",
    "\n",
    "# Calculate the number of seconds lived\n",
    "# Assuming 365.25 days in a year, 24 hours, 60 minute, 60 seconds\n",
    "seconds_lived = float(years_lived) * 365.25 * 24 * 60 * 60  \n",
    "\n",
    "print(\"You have lived for \",int(seconds_lived), \"seconds.\")\n"
   ]
  },
  {
   "cell_type": "markdown",
   "metadata": {},
   "source": [
    "QUESTION 23: DISPLAY A TABLE AS BELOW"
   ]
  },
  {
   "cell_type": "code",
   "execution_count": 41,
   "metadata": {},
   "outputs": [
    {
     "name": "stdout",
     "output_type": "stream",
     "text": [
      "1 1 1 1 1\n",
      "2 1 2 4 8\n",
      "3 1 3 9 27\n",
      "4 1 4 16 64\n",
      "5 1 5 25 125\n"
     ]
    }
   ],
   "source": [
    "# print the values to display the table\n",
    "print(\"1 1 1 1 1\")\n",
    "print(\"2 1 2 4 8\")\n",
    "print(\"3 1 3 9 27\")\n",
    "print(\"4 1 4 16 64\")\n",
    "print(\"5 1 5 25 125\")\n"
   ]
  }
 ],
 "metadata": {
  "kernelspec": {
   "display_name": "adsatesting",
   "language": "python",
   "name": "python3"
  },
  "language_info": {
   "codemirror_mode": {
    "name": "ipython",
    "version": 3
   },
   "file_extension": ".py",
   "mimetype": "text/x-python",
   "name": "python",
   "nbconvert_exporter": "python",
   "pygments_lexer": "ipython3",
   "version": "3.10.13"
  },
  "orig_nbformat": 4
 },
 "nbformat": 4,
 "nbformat_minor": 2
}
