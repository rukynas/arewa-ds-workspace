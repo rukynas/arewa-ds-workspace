{
 "cells": [
  {
   "cell_type": "markdown",
   "metadata": {},
   "source": [
    "### Exercises: Level 1\n",
    "\n",
    "1. Explain the difference between map, filter, and reduce.\n",
    "\n",
    "2. Explain the difference between higher order function, closure and decorator\n"
   ]
  },
  {
   "cell_type": "code",
   "execution_count": 3,
   "metadata": {},
   "outputs": [
    {
     "name": "stdout",
     "output_type": "stream",
     "text": [
      "map applies a given function to all items in an iterable and returns an iterable of the results.\n",
      "\n",
      "filter constructs a list from those elements of the iterable for which a function returns True.\n",
      "\n",
      "reduce successively applies a binary function to the items of an iterable, from left to right, reducing the iterable to a single cumulative result.\n",
      "\n"
     ]
    }
   ],
   "source": [
    "print(\"map applies a given function to all items in an iterable and returns an iterable of the results.\\n\")\n",
    "\n",
    "print(\"filter constructs a list from those elements of the iterable for which a function returns True.\\n\")\n",
    "\n",
    "print(\"reduce successively applies a binary function to the items of an iterable, from left to right, reducing the iterable to a single cumulative result.\\n\")"
   ]
  },
  {
   "cell_type": "code",
   "execution_count": 4,
   "metadata": {},
   "outputs": [
    {
     "name": "stdout",
     "output_type": "stream",
     "text": [
      "A higher-order function is a function that takes one or more functions as arguments or returns a function as its result.\n",
      "\n",
      "A closure is a function object that has access to variables in its lexical scope, even when the function is called outside that scope.\n",
      "\n",
      "A decorator is a design pattern in Python that allows the modification of a function or class. \n"
     ]
    }
   ],
   "source": [
    "print(\"A higher-order function is a function that takes one or more functions as arguments or returns a function as its result.\\n\")\n",
    "\n",
    "print(\"A closure is a function object that has access to variables in its lexical scope, even when the function is called outside that scope.\\n\")\n",
    "\n",
    "print(\"A decorator is a design pattern in Python that allows the modification of a function or class. \")"
   ]
  },
  {
   "cell_type": "markdown",
   "metadata": {},
   "source": [
    "3. Define a call function before map, filter or reduce.\n"
   ]
  },
  {
   "cell_type": "code",
   "execution_count": 6,
   "metadata": {},
   "outputs": [],
   "source": [
    "def call(func, values):\n",
    "    \n",
    "    return [func(value) for value in values]\n"
   ]
  },
  {
   "cell_type": "markdown",
   "metadata": {},
   "source": [
    "4. Use for loop to print each country in the countries list.\n",
    " \n",
    "6. Use for to print each name in the names list.\n",
    "   \n",
    "7. Use for to print each number in the numbers list.\n"
   ]
  },
  {
   "cell_type": "code",
   "execution_count": 5,
   "metadata": {},
   "outputs": [
    {
     "name": "stdout",
     "output_type": "stream",
     "text": [
      "Countries:\n",
      "Estonia\n",
      "Finland\n",
      "Sweden\n",
      "Denmark\n",
      "Norway\n",
      "Iceland\n",
      "\n",
      "Names:\n",
      "Asabeneh\n",
      "Lidiya\n",
      "Ermias\n",
      "Abraham\n",
      "\n",
      "Numbers:\n",
      "1\n",
      "2\n",
      "3\n",
      "4\n",
      "5\n",
      "6\n",
      "7\n",
      "8\n",
      "9\n",
      "10\n"
     ]
    }
   ],
   "source": [
    "\n",
    "countries = ['Estonia', 'Finland', 'Sweden', 'Denmark', 'Norway', 'Iceland']\n",
    "names = ['Asabeneh', 'Lidiya', 'Ermias', 'Abraham']\n",
    "numbers = [1, 2, 3, 4, 5, 6, 7, 8, 9, 10]\n",
    "\n",
    "# Using for loop to print each country in the countries list\n",
    "print(\"Countries:\")\n",
    "for country in countries:\n",
    "    print(country)\n",
    "\n",
    "# Using for loop to print each name in the names list\n",
    "print(\"\\nNames:\")\n",
    "for name in names:\n",
    "    print(name)\n",
    "\n",
    "# Using for loop to print each number in the numbers list\n",
    "print(\"\\nNumbers:\")\n",
    "for number in numbers:\n",
    "    print(number)"
   ]
  },
  {
   "cell_type": "markdown",
   "metadata": {},
   "source": [
    "### Exercises: Level 2\n",
    "\n",
    "1. Use map to create a new list by changing each country to uppercase in the countries list\n"
   ]
  },
  {
   "cell_type": "code",
   "execution_count": 7,
   "metadata": {},
   "outputs": [
    {
     "name": "stdout",
     "output_type": "stream",
     "text": [
      "['ESTONIA', 'FINLAND', 'SWEDEN', 'DENMARK', 'NORWAY', 'ICELAND']\n"
     ]
    }
   ],
   "source": [
    "# List of countries\n",
    "countries = ['Estonia', 'Finland', 'Sweden', 'Denmark', 'Norway', 'Iceland']\n",
    "\n",
    "# Use map to create a new list by changing each country to uppercase\n",
    "uppercase_countries = list(map(lambda country: country.upper(), countries))\n",
    "\n",
    "# Print the result\n",
    "print(uppercase_countries)\n"
   ]
  },
  {
   "cell_type": "markdown",
   "metadata": {},
   "source": [
    "2. Use map to create a new list by changing each number to its square in the numbers list\n"
   ]
  },
  {
   "cell_type": "code",
   "execution_count": 9,
   "metadata": {},
   "outputs": [
    {
     "name": "stdout",
     "output_type": "stream",
     "text": [
      "[1, 4, 9, 16, 25, 36, 49, 64, 81, 100]\n"
     ]
    }
   ],
   "source": [
    "# List of numbers\n",
    "numbers = [1, 2, 3, 4, 5, 6, 7, 8, 9, 10]\n",
    "\n",
    "# Use map to create a new list by changing each number to its square\n",
    "squared_numbers = list(map(lambda x: x**2, numbers))\n",
    "\n",
    "# Print the result\n",
    "print(squared_numbers)\n"
   ]
  },
  {
   "cell_type": "markdown",
   "metadata": {},
   "source": [
    "3. Use map to change each name to uppercase in the names list\n"
   ]
  },
  {
   "cell_type": "code",
   "execution_count": 12,
   "metadata": {},
   "outputs": [
    {
     "name": "stdout",
     "output_type": "stream",
     "text": [
      "['ASABENEH', 'LIDIYA', 'ERMIAS', 'ABRAHAM']\n"
     ]
    }
   ],
   "source": [
    "names = ['Asabeneh', 'Lidiya', 'Ermias', 'Abraham']\n",
    "\n",
    "# Use map to create a new list by changing each name to uppercase\n",
    "uppercase_names = list(map(lambda i: i.upper(), names))\n",
    "\n",
    "# print the result\n",
    "print(uppercase_names)"
   ]
  },
  {
   "cell_type": "markdown",
   "metadata": {},
   "source": [
    "4. Use filter to filter out countries containing 'land'."
   ]
  },
  {
   "cell_type": "code",
   "execution_count": 18,
   "metadata": {},
   "outputs": [
    {
     "name": "stdout",
     "output_type": "stream",
     "text": [
      "Original list of countries ['Estonia', 'Finland', 'Sweden', 'Denmark', 'Norway', 'Iceland']\n",
      "Filtered list of countries ['Estonia', 'Sweden', 'Denmark', 'Norway']\n"
     ]
    }
   ],
   "source": [
    "# List of countries\n",
    "countries = ['Estonia', 'Finland', 'Sweden', 'Denmark', 'Norway', 'Iceland']\n",
    "\n",
    "# Use filter to create a new list by filtering out countries containing 'land'\n",
    "filtered_countries = list(filter(lambda country: 'land' not in country.lower(), countries))\n",
    "\n",
    "# Print the result\n",
    "print(\"Original list of countries\", countries)\n",
    "print(\"Filtered list of countries\", filtered_countries)"
   ]
  },
  {
   "cell_type": "markdown",
   "metadata": {},
   "source": [
    "5. Use filter to filter out countries having exactly six characters.\n"
   ]
  },
  {
   "cell_type": "code",
   "execution_count": 19,
   "metadata": {},
   "outputs": [
    {
     "name": "stdout",
     "output_type": "stream",
     "text": [
      "Original list of countries: ['Estonia', 'Finland', 'Sweden', 'Denmark', 'Norway', 'Iceland']\n",
      "Filtered list of countries: ['Estonia', 'Finland', 'Denmark', 'Iceland']\n"
     ]
    }
   ],
   "source": [
    "# List of countries\n",
    "countries = ['Estonia', 'Finland', 'Sweden', 'Denmark', 'Norway', 'Iceland']\n",
    "\n",
    "# Use filter to create a new list by filtering out countries containing 'six char'\n",
    "filtered_len_countries = list(filter(lambda country: len(country) != 6, countries))\n",
    "\n",
    "# Print the result\n",
    "print(\"Original list of countries:\", countries)\n",
    "print(\"Filtered list of countries:\", filtered_len_countries)\n"
   ]
  },
  {
   "cell_type": "markdown",
   "metadata": {},
   "source": [
    "6. Use filter to filter out countries containing six letters and more in the country list.\n"
   ]
  },
  {
   "cell_type": "code",
   "execution_count": 23,
   "metadata": {},
   "outputs": [
    {
     "name": "stdout",
     "output_type": "stream",
     "text": [
      "Original list of countries: ['Estonia', 'Finland', 'Sweden', 'Denmark', 'Norway', 'Iceland']\n",
      "Filtered list of countries: ['Estonia', 'Finland', 'Sweden', 'Denmark', 'Norway', 'Iceland']\n"
     ]
    }
   ],
   "source": [
    "# List of countries\n",
    "countries = ['Estonia', 'Finland', 'Sweden', 'Denmark', 'Norway', 'Iceland']\n",
    "\n",
    "# Use filter to create a new list by filtering out countries containing 'six char' or more\n",
    "filtered_six_countries = list(filter(lambda country: len(country) >= 6, countries))\n",
    "\n",
    "# Print the result\n",
    "print(\"Original list of countries:\", countries)\n",
    "print(\"Filtered list of countries:\", filtered_six_countries)\n"
   ]
  },
  {
   "cell_type": "markdown",
   "metadata": {},
   "source": [
    "7. Use filter to filter out countries starting with an 'E'"
   ]
  },
  {
   "cell_type": "code",
   "execution_count": 25,
   "metadata": {},
   "outputs": [
    {
     "name": "stdout",
     "output_type": "stream",
     "text": [
      "Original list of countries: ['Estonia', 'Finland', 'Sweden', 'Denmark', 'Norway', 'Iceland']\n",
      "Filtered list of countries: ['Finland', 'Sweden', 'Denmark', 'Norway', 'Iceland']\n"
     ]
    }
   ],
   "source": [
    "# List of countries\n",
    "countries = ['Estonia', 'Finland', 'Sweden', 'Denmark', 'Norway', 'Iceland']\n",
    "\n",
    "# Use filter to create a new list by filtering out countries starting with 'E'\n",
    "filtered_E_countries = list(filter(lambda country: country[0] != 'E', countries))\n",
    "\n",
    "# Print the result\n",
    "print(\"Original list of countries:\", countries)\n",
    "print(\"Filtered list of countries:\", filtered_E_countries)\n"
   ]
  },
  {
   "cell_type": "markdown",
   "metadata": {},
   "source": [
    "8. Chain two or more list iterators (eg. arr.map(callback).filter(callback).reduce(callback))\n"
   ]
  },
  {
   "cell_type": "code",
   "execution_count": 29,
   "metadata": {},
   "outputs": [
    {
     "name": "stdout",
     "output_type": "stream",
     "text": [
      "[4, 16, 36, 64, 100]\n"
     ]
    }
   ],
   "source": [
    "\n",
    "numbers = [1, 2, 3, 4, 5, 6, 7, 8, 9, 10]\n",
    "\n",
    "# Chain two list iterators\n",
    "result = list(filter(lambda x: x % 2 == 0, map(lambda x: x**2, numbers)))\n",
    "\n",
    "# Print the result, its a list of squared numbers that are even:\n",
    "print(result)\n"
   ]
  },
  {
   "cell_type": "markdown",
   "metadata": {},
   "source": [
    "9. Declare a function called get_string_lists which takes a list as a parameter and then returns a list containing only string items.\n"
   ]
  },
  {
   "cell_type": "code",
   "execution_count": 31,
   "metadata": {},
   "outputs": [
    {
     "name": "stdout",
     "output_type": "stream",
     "text": [
      "['apple', 'banana', 'cherry']\n"
     ]
    }
   ],
   "source": [
    "def get_string_lists(input_list):\n",
    "   # isinstance checks if each element x in the list is a string.\n",
    "    return list(filter(lambda x: isinstance(x, str), input_list))\n",
    "\n",
    "# Example usage:\n",
    "mixed_list = [True, 'apple', 2, 'banana', 'cherry', 3]\n",
    "string_list = get_string_lists(mixed_list)\n",
    "print(string_list)\n"
   ]
  }
 ],
 "metadata": {
  "kernelspec": {
   "display_name": "adsatesting",
   "language": "python",
   "name": "python3"
  },
  "language_info": {
   "codemirror_mode": {
    "name": "ipython",
    "version": 3
   },
   "file_extension": ".py",
   "mimetype": "text/x-python",
   "name": "python",
   "nbconvert_exporter": "python",
   "pygments_lexer": "ipython3",
   "version": "3.10.13"
  },
  "orig_nbformat": 4
 },
 "nbformat": 4,
 "nbformat_minor": 2
}
