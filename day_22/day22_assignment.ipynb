{
 "cells": [
  {
   "cell_type": "markdown",
   "metadata": {},
   "source": [
    "### Exercises: Day 22\n",
    "\n",
    "Scrape the following website and store the data as json file(url = 'http://www.bu.edu/president/boston-university-facts-stats/').\n"
   ]
  },
  {
   "cell_type": "code",
   "execution_count": 4,
   "metadata": {},
   "outputs": [
    {
     "ename": "ModuleNotFoundError",
     "evalue": "No module named 'requests'",
     "output_type": "error",
     "traceback": [
      "\u001b[0;31m---------------------------------------------------------------------------\u001b[0m",
      "\u001b[0;31mModuleNotFoundError\u001b[0m                       Traceback (most recent call last)",
      "Cell \u001b[0;32mIn[4], line 1\u001b[0m\n\u001b[0;32m----> 1\u001b[0m \u001b[39mimport\u001b[39;00m \u001b[39mrequests\u001b[39;00m\n\u001b[1;32m      2\u001b[0m \u001b[39mfrom\u001b[39;00m \u001b[39mbs4\u001b[39;00m \u001b[39mimport\u001b[39;00m BeautifulSoup\n\u001b[1;32m      3\u001b[0m \u001b[39mimport\u001b[39;00m \u001b[39mjson\u001b[39;00m\n",
      "\u001b[0;31mModuleNotFoundError\u001b[0m: No module named 'requests'"
     ]
    }
   ],
   "source": [
    "\n",
    "import requests\n",
    "from bs4 import BeautifulSoup\n",
    "import json\n",
    "\n",
    "# URL of the website to scrape\n",
    "url = 'http://www.bu.edu/president/boston-university-facts-stats/'\n",
    "\n",
    "# Fetch HTML content from the website\n",
    "response = requests.get(url)\n",
    "\n",
    "if response.status_code == 200:\n",
    "    # Parse HTML content using BeautifulSoup\n",
    "    soup = BeautifulSoup(response.text, 'html.parser')\n",
    "\n",
    "    # Find the relevant data on the page and extract it\n",
    "    # (You need to inspect the HTML structure to identify the elements you want to scrape)\n",
    "    data_to_scrape = {}  # Create a dictionary to store the scraped data\n",
    "\n",
    "    # Example: Scraping all paragraphs under the div with id 'content'\n",
    "    content_div = soup.find('div', id='content')\n",
    "    paragraphs = content_div.find_all('p')\n",
    "\n",
    "    # Store the scraped data in the dictionary\n",
    "    data_to_scrape['paragraphs'] = [paragraph.text.strip() for paragraph in paragraphs]\n",
    "\n",
    "    # Save the data as a JSON file\n",
    "    with open('scraped_data.json', 'w', encoding='utf-8') as json_file:\n",
    "        json.dump(data_to_scrape, json_file, ensure_ascii=False, indent=4)\n",
    "\n",
    "    print(\"Scraping and saving data successful.\")\n",
    "\n",
    "else:\n",
    "    print(f\"Failed to fetch content from the URL. Status code: {response.status_code}\")\n"
   ]
  }
 ],
 "metadata": {
  "kernelspec": {
   "display_name": "adsatesting",
   "language": "python",
   "name": "python3"
  },
  "language_info": {
   "codemirror_mode": {
    "name": "ipython",
    "version": 3
   },
   "file_extension": ".py",
   "mimetype": "text/x-python",
   "name": "python",
   "nbconvert_exporter": "python",
   "pygments_lexer": "ipython3",
   "version": "3.10.13"
  },
  "orig_nbformat": 4
 },
 "nbformat": 4,
 "nbformat_minor": 2
}
