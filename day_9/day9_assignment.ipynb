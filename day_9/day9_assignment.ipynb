{
 "cells": [
  {
   "cell_type": "markdown",
   "metadata": {},
   "source": [
    "### EXERCICES DAY 9"
   ]
  },
  {
   "cell_type": "markdown",
   "metadata": {},
   "source": [
    "#### Exercises: Level 1"
   ]
  },
  {
   "cell_type": "markdown",
   "metadata": {},
   "source": [
    "1. Get user input using input(“Enter your age: ”). If user is 18 or older, give feedback: You are old enough to drive. If below 18 give feedback to wait for the missing amount of years. Output:\n",
    "   \n",
    "Enter your age: 30\n",
    "You are old enough to learn to drive.\n",
    "Output:\n",
    "Enter your age: 15\n",
    "You need 3 more years to learn to drive."
   ]
  },
  {
   "cell_type": "code",
   "execution_count": 3,
   "metadata": {},
   "outputs": [
    {
     "name": "stdout",
     "output_type": "stream",
     "text": [
      "age entered is:  15\n",
      "you need 3 more years to learn to drive.\n"
     ]
    }
   ],
   "source": [
    "# get user input\n",
    "age = int(input(\"Enter your age:\"))\n",
    "more_years = 18 - age\n",
    "\n",
    "print(\"age entered is: \", age)\n",
    "\n",
    "# using if condition to check if user can drive\n",
    "if age >= 18:\n",
    "    \n",
    "    print(\"You are old enough to drive.\")\n",
    "    \n",
    "#prints else if age is less than 18\n",
    "else:\n",
    " print(f\"you need {more_years} more years to learn to drive.\")\n"
   ]
  },
  {
   "cell_type": "markdown",
   "metadata": {},
   "source": [
    "2. Compare the values of my_age and your_age using if … else. Who is older (me or you)? Use input(“Enter your age: ”) to get the age as input. You can use a nested condition to print 'year' for 1 year difference in age, 'years' for bigger differences, and a custom text if my_age = your_age. Output:\n",
    "   \n",
    "Enter your age: 30\n",
    "You are 5 years older than me."
   ]
  },
  {
   "cell_type": "code",
   "execution_count": 9,
   "metadata": {},
   "outputs": [
    {
     "name": "stdout",
     "output_type": "stream",
     "text": [
      "my age is:  9\n",
      "your age is:  11\n",
      "You are 2 years older than me.\n"
     ]
    }
   ],
   "source": [
    "# get user input\n",
    "my_age = int(input(\"Enter your age:\"))\n",
    "your_age = int(input(\"Enter your age:\"))\n",
    "age_diff = your_age - my_age\n",
    "\n",
    "print(\"my age is: \", my_age)\n",
    "print(\"your age is: \", your_age)\n",
    "\n",
    "# using if condition to check if user can drive\n",
    "if my_age < your_age:\n",
    "    age_diff = your_age - my_age\n",
    "    if age_diff == 1:\n",
    "        print(f\"You are {age_diff} year older than me.\")\n",
    "    else:\n",
    "        print(f\"You are {age_diff} years older than me.\")\n",
    "elif my_age > your_age:\n",
    "    age_difference = my_age - your_age\n",
    "    if age_difference == 1:\n",
    "        print(f\"I am {age_diff} year older than you.\")\n",
    "    else:\n",
    "        print(f\"I am {age_diff} years older than you.\")\n",
    "else:\n",
    "    print(\"We are the same age.\")"
   ]
  },
  {
   "cell_type": "markdown",
   "metadata": {},
   "source": [
    "3. Get two numbers from the user using input prompt. If a is greater than b return a is greater than b, if a is less b return a is smaller than b, else a is equal to b. Output:\n",
    "   \n",
    "Enter number one: 4\n",
    "Enter number two: 3\n",
    "4 is greater than 3"
   ]
  },
  {
   "cell_type": "code",
   "execution_count": 21,
   "metadata": {},
   "outputs": [
    {
     "name": "stdout",
     "output_type": "stream",
     "text": [
      "a = 3\n",
      "b = 5\n",
      "5 is greater than 3\n"
     ]
    }
   ],
   "source": [
    "# get user input\n",
    "a = int(input(\"Enter number one:\"))\n",
    "b = int(input(\"Enter number two:\"))\n",
    "\n",
    "print(\"a =\",a)\n",
    "print(\"b =\",b)\n",
    "\n",
    "if a > b:\n",
    "    print(f\"{a} is greater than {b}\")\n",
    "\n",
    "    if a == b:\n",
    "        print(f\"{a} is equal to {b}\")\n",
    "\n",
    "elif a < b:\n",
    "    print(f\"{b} is greater than {a}\")\n",
    "\n",
    "    if a == b:\n",
    "        print(f\"{a} is equal to {b}\")\n",
    "else:\n",
    "    print(f\"{a} and {b} are equal.\")"
   ]
  },
  {
   "cell_type": "markdown",
   "metadata": {},
   "source": [
    "#### Exercises: Level 2\n",
    "Write a code which gives grade to students according to theirs scores:\n",
    "\n",
    "\n",
    "80-100, A  \n",
    "70-89, B  \n",
    "60-69, C  \n",
    "50-59, D  \n",
    "0-49, F\n",
    "\n"
   ]
  },
  {
   "cell_type": "code",
   "execution_count": 22,
   "metadata": {},
   "outputs": [
    {
     "name": "stdout",
     "output_type": "stream",
     "text": [
      "The student's grade is: B\n"
     ]
    }
   ],
   "source": [
    "# ask score asinput\n",
    "score = int(input(\"Enter the student's score: \"))\n",
    "\n",
    "# Assign grades based on the score range\n",
    "if 80 <= score <= 100:\n",
    "    grade = 'A'\n",
    "elif 70 <= score <= 79:\n",
    "    grade = 'B'\n",
    "elif 60 <= score <= 69:\n",
    "    grade = 'C'\n",
    "elif 50 <= score <= 59:\n",
    "    grade = 'D'\n",
    "elif 0 <= score <= 49:\n",
    "    grade = 'F'\n",
    "else:\n",
    "    grade = 'Invalid score'\n",
    "\n",
    "# Print grade\n",
    "print(f\"The student's grade is: {grade}\")\n"
   ]
  },
  {
   "cell_type": "markdown",
   "metadata": {},
   "source": [
    "2. Check if the season is Autumn, Winter, Spring or Summer. If the user input is: September, October or November, the season is Autumn. December, January or February, the season is Winter. March, April or May, the season is Spring June, July or August, the season is Summer"
   ]
  },
  {
   "cell_type": "code",
   "execution_count": 26,
   "metadata": {},
   "outputs": [
    {
     "name": "stdout",
     "output_type": "stream",
     "text": [
      "The season for April is Spring\n"
     ]
    }
   ],
   "source": [
    "# ask user input for the month\n",
    "month = input(\"Enter the month and capitalize the first letter: \")\n",
    "\n",
    "# Check the season based on the month\n",
    "if month in ['September', 'October', 'November']:\n",
    "    season = 'Autumn'\n",
    "elif month in ['December', 'January', 'February']:\n",
    "    season = 'Winter'\n",
    "elif month in ['March', 'April', 'May']:\n",
    "    season = 'Spring'\n",
    "elif month in ['June', 'July', 'August']:\n",
    "    season = 'Summer'\n",
    "else:\n",
    "    season = 'Invalid month.'\n",
    "\n",
    "# Print the season\n",
    "print(f\"The season for {month} is {season}\")\n"
   ]
  },
  {
   "cell_type": "markdown",
   "metadata": {},
   "source": [
    "3. The following list contains some fruits:\n",
    "\n",
    "fruits = ['banana', 'orange', 'mango', 'lemon']  \n",
    "If a fruit doesn't exist in the list add the fruit to the list and print the modified list. If the fruit exists print('That fruit already exist in the list')"
   ]
  },
  {
   "cell_type": "code",
   "execution_count": 27,
   "metadata": {},
   "outputs": [
    {
     "name": "stdout",
     "output_type": "stream",
     "text": [
      "The fruit \"apple\" has been added to the list.\n",
      "Modified List of Fruits: ['banana', 'orange', 'mango', 'lemon', 'apple']\n"
     ]
    }
   ],
   "source": [
    "# given list of fruits\n",
    "fruits = ['banana', 'orange', 'mango', 'lemon']  \n",
    "\n",
    "# Get the fruit from user input\n",
    "new_fruit = input(\"Enter a fruit in lowercase: \")\n",
    "\n",
    "# Check if the fruit exists in the list\n",
    "if new_fruit not in fruits:\n",
    "    # If the fruit doesn't exist, add it to the list\n",
    "    fruits.append(new_fruit)\n",
    "    print(f'The fruit \"{new_fruit}\" has been added to the list.')\n",
    "else:\n",
    "    # If the fruit exists, print a message\n",
    "    print(f'That fruit \"{new_fruit}\" already exists in the list.')\n",
    "\n",
    "# Print the modified list of fruits\n",
    "print('Modified List of Fruits:', fruits)\n"
   ]
  },
  {
   "cell_type": "markdown",
   "metadata": {},
   "source": [
    "4. Here we have a person dictionary. Feel free to modify it!\n",
    "\n",
    "        person={  \n",
    "    'first_name': 'Asabeneh',  \n",
    "    'last_name': 'Yetayeh',  \n",
    "    'age': 250,  \n",
    "    'country': 'Finland',  \n",
    "    'is_marred': True,  \n",
    "    'skills': ['JavaScript', 'React', 'Node', 'MongoDB', 'Python'],  \n",
    "    'address': {  \n",
    "        'street': 'Space street',  \n",
    "        'zipcode': '02210'  \n",
    "    }  \n",
    "    }  \n",
    " * Check if the person dictionary has skills key, if so print out the middle skill in the skills list.  \n",
    " * Check if the person dictionary has skills key, if so check if the person has 'Python' skill and print out the result.  \n",
    " * If a person skills has only JavaScript and React, print('He is a front end developer'), if the person skills has Node, Python, MongoDB, print('He is a backend developer'), if the person skills has React, Node and MongoDB, Print('He is a fullstack developer'), else print('unknown title') - for more accurate results more conditions can be nested!  \n",
    " * If the person is married and if he lives in Finland, print the information in the following format:\n",
    "    Asabeneh Yetayeh lives in Finland. He is married.  "
   ]
  },
  {
   "cell_type": "code",
   "execution_count": 31,
   "metadata": {},
   "outputs": [
    {
     "name": "stdout",
     "output_type": "stream",
     "text": [
      "The person has the skill: Python\n",
      "Middle skill in the skills list: Node\n",
      "Unknown title\n",
      "Asabeneh Yetayeh lives in Finland. He is married.\n"
     ]
    }
   ],
   "source": [
    "person = {\n",
    "    'first_name': 'Asabeneh',\n",
    "    'last_name': 'Yetayeh',\n",
    "    'age': 250,\n",
    "    'country': 'Finland',\n",
    "    'is_married': True,\n",
    "    'skills': ['JavaScript', 'React', 'Node', 'MongoDB', 'Python'],\n",
    "    'address': {\n",
    "        'street': 'Space street',\n",
    "        'zipcode': '02210'\n",
    "    }\n",
    "}\n",
    "\n",
    "# Check if the person dictionary has skills key\n",
    "if 'skills' in person:\n",
    "    skills_list = person['skills']\n",
    "    \n",
    "    # Check if the person has 'Python' skill\n",
    "    if 'Python' in skills_list:\n",
    "        print('The person has the skill: Python')\n",
    "    \n",
    "    # Print out the middle skill in the skills list\n",
    "    middle_skill = skills_list[len(skills_list) // 2]\n",
    "    print(f'Middle skill in the skills list: {middle_skill}')\n",
    "\n",
    "    # Check developer title based on skills\n",
    "    if set(['JavaScript', 'React']) == set(skills_list):\n",
    "        print('He is a front end developer')\n",
    "    elif set(['Node', 'Python', 'MongoDB']) == set(skills_list):\n",
    "        print('He is a backend developer')\n",
    "    elif set(['React', 'Node', 'MongoDB']) == set(skills_list):\n",
    "        print('He is a fullstack developer')\n",
    "    else:\n",
    "        print('Unknown title')\n",
    "\n",
    "# Check marriage and country information\n",
    "if person['is_married'] and person['country'] == 'Finland':\n",
    "    print(f\"{person['first_name']} {person['last_name']} lives in {person['country']}. He is married.\")\n"
   ]
  }
 ],
 "metadata": {
  "kernelspec": {
   "display_name": "adsatesting",
   "language": "python",
   "name": "python3"
  },
  "language_info": {
   "codemirror_mode": {
    "name": "ipython",
    "version": 3
   },
   "file_extension": ".py",
   "mimetype": "text/x-python",
   "name": "python",
   "nbconvert_exporter": "python",
   "pygments_lexer": "ipython3",
   "version": "3.10.13"
  },
  "orig_nbformat": 4
 },
 "nbformat": 4,
 "nbformat_minor": 2
}
