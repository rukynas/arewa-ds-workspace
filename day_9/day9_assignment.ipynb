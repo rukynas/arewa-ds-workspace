{
 "cells": [
  {
   "cell_type": "markdown",
   "metadata": {},
   "source": [
    "### EXERCICES DAY 9"
   ]
  },
  {
   "cell_type": "markdown",
   "metadata": {},
   "source": [
    "#### Exercises: Level 1"
   ]
  },
  {
   "cell_type": "markdown",
   "metadata": {},
   "source": [
    "1. Get user input using input(“Enter your age: ”). If user is 18 or older, give feedback: You are old enough to drive. If below 18 give feedback to wait for the missing amount of years. Output:\n",
    "   \n",
    "Enter your age: 30\n",
    "You are old enough to learn to drive.\n",
    "Output:\n",
    "Enter your age: 15\n",
    "You need 3 more years to learn to drive."
   ]
  },
  {
   "cell_type": "code",
   "execution_count": 3,
   "metadata": {},
   "outputs": [
    {
     "name": "stdout",
     "output_type": "stream",
     "text": [
      "age entered is:  15\n",
      "you need 3 more years to learn to drive.\n"
     ]
    }
   ],
   "source": [
    "# get user input\n",
    "age = int(input(\"Enter your age:\"))\n",
    "more_years = 18 - age\n",
    "\n",
    "print(\"age entered is: \", age)\n",
    "\n",
    "# using if condition to check if user can drive\n",
    "if age >= 18:\n",
    "    \n",
    "    print(\"You are old enough to drive.\")\n",
    "    \n",
    "#prints else if age is less than 18\n",
    "else:\n",
    " print(f\"you need {more_years} more years to learn to drive.\")\n"
   ]
  },
  {
   "cell_type": "markdown",
   "metadata": {},
   "source": [
    "2. Compare the values of my_age and your_age using if … else. Who is older (me or you)? Use input(“Enter your age: ”) to get the age as input. You can use a nested condition to print 'year' for 1 year difference in age, 'years' for bigger differences, and a custom text if my_age = your_age. Output:\n",
    "   \n",
    "Enter your age: 30\n",
    "You are 5 years older than me."
   ]
  },
  {
   "cell_type": "code",
   "execution_count": 9,
   "metadata": {},
   "outputs": [
    {
     "name": "stdout",
     "output_type": "stream",
     "text": [
      "my age is:  9\n",
      "your age is:  11\n",
      "You are 2 years older than me.\n"
     ]
    }
   ],
   "source": [
    "# get user input\n",
    "my_age = int(input(\"Enter your age:\"))\n",
    "your_age = int(input(\"Enter your age:\"))\n",
    "age_diff = your_age - my_age\n",
    "\n",
    "print(\"my age is: \", my_age)\n",
    "print(\"your age is: \", your_age)\n",
    "\n",
    "# using if condition to check if user can drive\n",
    "if my_age < your_age:\n",
    "    age_diff = your_age - my_age\n",
    "    if age_diff == 1:\n",
    "        print(f\"You are {age_diff} year older than me.\")\n",
    "    else:\n",
    "        print(f\"You are {age_diff} years older than me.\")\n",
    "elif my_age > your_age:\n",
    "    age_difference = my_age - your_age\n",
    "    if age_difference == 1:\n",
    "        print(f\"I am {age_diff} year older than you.\")\n",
    "    else:\n",
    "        print(f\"I am {age_diff} years older than you.\")\n",
    "else:\n",
    "    print(\"We are the same age.\")"
   ]
  },
  {
   "cell_type": "markdown",
   "metadata": {},
   "source": [
    "3. Get two numbers from the user using input prompt. If a is greater than b return a is greater than b, if a is less b return a is smaller than b, else a is equal to b. Output:\n",
    "   \n",
    "Enter number one: 4\n",
    "Enter number two: 3\n",
    "4 is greater than 3"
   ]
  },
  {
   "cell_type": "code",
   "execution_count": 21,
   "metadata": {},
   "outputs": [
    {
     "name": "stdout",
     "output_type": "stream",
     "text": [
      "a = 3\n",
      "b = 5\n",
      "5 is greater than 3\n"
     ]
    }
   ],
   "source": [
    "# get user input\n",
    "a = int(input(\"Enter number one:\"))\n",
    "b = int(input(\"Enter number two:\"))\n",
    "\n",
    "print(\"a =\",a)\n",
    "print(\"b =\",b)\n",
    "\n",
    "if a > b:\n",
    "    print(f\"{a} is greater than {b}\")\n",
    "\n",
    "    if a == b:\n",
    "        print(f\"{a} is equal to {b}\")\n",
    "\n",
    "elif a < b:\n",
    "    print(f\"{b} is greater than {a}\")\n",
    "\n",
    "    if a == b:\n",
    "        print(f\"{a} is equal to {b}\")\n",
    "else:\n",
    "    print(f\"{a} and {b} are equal.\")"
   ]
  },
  {
   "cell_type": "markdown",
   "metadata": {},
   "source": []
  },
  {
   "cell_type": "code",
   "execution_count": null,
   "metadata": {},
   "outputs": [],
   "source": []
  }
 ],
 "metadata": {
  "kernelspec": {
   "display_name": "adsatesting",
   "language": "python",
   "name": "python3"
  },
  "language_info": {
   "codemirror_mode": {
    "name": "ipython",
    "version": 3
   },
   "file_extension": ".py",
   "mimetype": "text/x-python",
   "name": "python",
   "nbconvert_exporter": "python",
   "pygments_lexer": "ipython3",
   "version": "3.10.13"
  },
  "orig_nbformat": 4
 },
 "nbformat": 4,
 "nbformat_minor": 2
}
