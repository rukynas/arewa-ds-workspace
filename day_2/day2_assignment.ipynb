{
 "cells": [
  {
   "cell_type": "markdown",
   "metadata": {},
   "source": [
    "Exercises - Day 2"
   ]
  },
  {
   "cell_type": "code",
   "execution_count": 1,
   "metadata": {},
   "outputs": [],
   "source": [
    "#Day 2: 30 Days of python programming\n",
    "first_name = \"Ruqayya\"\n",
    "last_name = \"Nasir\"\n",
    "full_name = first_name + \" \" + last_name\n",
    "country = \"Nigeria\"\n",
    "city = \"Kano\"\n",
    "age = 32\n",
    "year = 2023\n",
    "is_married = True\n",
    "is_true = True\n",
    "is_light_on = True\n"
   ]
  },
  {
   "cell_type": "markdown",
   "metadata": {},
   "source": [
    "### EXERCISE LEVEL 2"
   ]
  },
  {
   "cell_type": "code",
   "execution_count": 3,
   "metadata": {},
   "outputs": [
    {
     "name": "stdout",
     "output_type": "stream",
     "text": [
      "Data Type of first_name: <class 'str'>\n",
      "Data Type of last_name: <class 'str'>\n",
      "Data Type of full_name: <class 'str'>\n",
      "Data Type of country: <class 'str'>\n",
      "Data Type of city: <class 'str'>\n",
      "Data Type of age: <class 'int'>\n",
      "Data Type of year: <class 'int'>\n",
      "Data Type of is_married: <class 'bool'>\n",
      "Data Type of is_true: <class 'bool'>\n",
      "Data Type of is_light_on: <class 'bool'>\n"
     ]
    }
   ],
   "source": [
    "print(\"Data Type of first_name:\", type(first_name))\n",
    "print(\"Data Type of last_name:\", type(last_name))\n",
    "print(\"Data Type of full_name:\", type(full_name))\n",
    "print(\"Data Type of country:\", type(country))\n",
    "print(\"Data Type of city:\", type(city))\n",
    "print(\"Data Type of age:\", type(age))\n",
    "print(\"Data Type of year:\", type(year))\n",
    "print(\"Data Type of is_married:\", type(is_married))\n",
    "print(\"Data Type of is_true:\", type(is_true))\n",
    "print(\"Data Type of is_light_on:\", type(is_light_on))\n"
   ]
  },
  {
   "cell_type": "markdown",
   "metadata": {},
   "source": [
    "Using the len() built-in function, find the length of your first name"
   ]
  },
  {
   "cell_type": "code",
   "execution_count": 4,
   "metadata": {},
   "outputs": [
    {
     "name": "stdout",
     "output_type": "stream",
     "text": [
      "Length of first name is 7\n"
     ]
    }
   ],
   "source": [
    "length_of_first_name = len(first_name)\n",
    "print(\"Length of first name is\", length_of_first_name)\n"
   ]
  },
  {
   "cell_type": "markdown",
   "metadata": {},
   "source": [
    "COMPARE LENGHT OF FIRST NAME AND LAST NAME"
   ]
  },
  {
   "cell_type": "code",
   "execution_count": 6,
   "metadata": {},
   "outputs": [
    {
     "name": "stdout",
     "output_type": "stream",
     "text": [
      "The length of first name is not equal to the length of last name.\n"
     ]
    }
   ],
   "source": [
    "\n",
    "if len(first_name) == len(last_name):\n",
    "    print(\"The length of first name is equal to the length of last name.\")\n",
    "else:\n",
    "    print(\"The length of first name is not equal to the length of last name.\")"
   ]
  },
  {
   "cell_type": "markdown",
   "metadata": {},
   "source": [
    "simple calculations"
   ]
  },
  {
   "cell_type": "code",
   "execution_count": 8,
   "metadata": {},
   "outputs": [],
   "source": [
    "num_one = 5\n",
    "num_two = 4\n",
    "\n",
    "# Add\n",
    "total = num_one + num_two\n",
    "\n",
    "# Subtract\n",
    "diff = num_one - num_two\n",
    "\n",
    "# Multiply\n",
    "product = num_two * num_one\n",
    "\n",
    "# Divide\n",
    "division = num_one / num_two\n",
    "\n",
    "# Modulus\n",
    "remainder = num_two % num_one\n",
    "\n",
    "# exponential\n",
    "exp = num_one ** num_two\n",
    "\n",
    "# Floor div\n",
    "floor_division = num_one // num_two"
   ]
  },
  {
   "cell_type": "markdown",
   "metadata": {},
   "source": [
    "PRINT THE OUTPUT OF ABOVE"
   ]
  },
  {
   "cell_type": "code",
   "execution_count": 9,
   "metadata": {},
   "outputs": [
    {
     "name": "stdout",
     "output_type": "stream",
     "text": [
      "Total: 9\n",
      "Difference: 1\n",
      "Product: 20\n",
      "Division: 1.25\n",
      "Remainder: 4\n",
      "Exponentiation: 625\n",
      "Floor Division: 1\n"
     ]
    }
   ],
   "source": [
    "print(\"Total:\", total)\n",
    "print(\"Difference:\", diff)\n",
    "print(\"Product:\", product)\n",
    "print(\"Division:\", division)\n",
    "print(\"Remainder:\", remainder)\n",
    "print(\"Exponentiation:\", exp)\n",
    "print(\"Floor Division:\", floor_division)"
   ]
  },
  {
   "cell_type": "markdown",
   "metadata": {},
   "source": [
    "RADIUS OF A CIRCLE"
   ]
  },
  {
   "cell_type": "code",
   "execution_count": 10,
   "metadata": {},
   "outputs": [
    {
     "name": "stdout",
     "output_type": "stream",
     "text": [
      "radius =  30\n",
      "pi =  3.14\n",
      "Area of the circle =  2826.0\n",
      "Circumference of the circle =  188.4\n"
     ]
    }
   ],
   "source": [
    "\n",
    "radius = 30\n",
    "pi = 3.14\n",
    "\n",
    "area_of_circle = pi * radius**2\n",
    "\n",
    "circum_of_circle = 2 * pi * radius\n",
    "\n",
    "print(\"radius = \", radius)\n",
    "print(\"pi = \", pi)\n",
    "print(\"Area of the circle = \", area_of_circle)\n",
    "print(\"Circumference of the circle = \", circum_of_circle)\n"
   ]
  },
  {
   "cell_type": "markdown",
   "metadata": {},
   "source": [
    "TAKE USER INPUT FOR RADIUS"
   ]
  },
  {
   "cell_type": "code",
   "execution_count": 5,
   "metadata": {},
   "outputs": [
    {
     "name": "stdout",
     "output_type": "stream",
     "text": [
      "Area of the circle with user input: 1256.0\n"
     ]
    }
   ],
   "source": [
    "# Ask radius as user input\n",
    "pi =  3.14\n",
    "\n",
    "user_radius = input(\"Enter the radius of the circle: \")\n",
    "\n",
    "# convert radius input to float and calculate\n",
    "area_of_circle_input = pi * float(user_radius)**2\n",
    "\n",
    "print(\"Area of the circle with user input:\", area_of_circle_input)"
   ]
  },
  {
   "cell_type": "markdown",
   "metadata": {},
   "source": [
    "Ask user for inputs"
   ]
  },
  {
   "cell_type": "code",
   "execution_count": 6,
   "metadata": {},
   "outputs": [
    {
     "name": "stdout",
     "output_type": "stream",
     "text": [
      "First Name: ruqayya\n",
      "Last Name: nasir\n",
      "Country: nigeria\n",
      "Age: 32\n"
     ]
    }
   ],
   "source": [
    "first_name = input(\"Enter your first name: \")\n",
    "last_name = input(\"Enter your last name: \")\n",
    "country = input(\"Enter your country: \")\n",
    "age = input(\"Enter your age: \")\n",
    "\n",
    "# print info\n",
    "print(\"First Name:\", first_name)\n",
    "print(\"Last Name:\", last_name)\n",
    "print(\"Country:\", country)\n",
    "print(\"Age:\", age)"
   ]
  },
  {
   "cell_type": "code",
   "execution_count": 7,
   "metadata": {},
   "outputs": [
    {
     "name": "stdout",
     "output_type": "stream",
     "text": [
      "\n",
      "Here is a list of the Python keywords.  Enter any keyword to get more help.\n",
      "\n",
      "False               class               from                or\n",
      "None                continue            global              pass\n",
      "True                def                 if                  raise\n",
      "and                 del                 import              return\n",
      "as                  elif                in                  try\n",
      "assert              else                is                  while\n",
      "async               except              lambda              with\n",
      "await               finally             nonlocal            yield\n",
      "break               for                 not                 \n",
      "\n"
     ]
    }
   ],
   "source": [
    "help('keywords')\n"
   ]
  }
 ],
 "metadata": {
  "kernelspec": {
   "display_name": "adsatesting",
   "language": "python",
   "name": "python3"
  },
  "language_info": {
   "codemirror_mode": {
    "name": "ipython",
    "version": 3
   },
   "file_extension": ".py",
   "mimetype": "text/x-python",
   "name": "python",
   "nbconvert_exporter": "python",
   "pygments_lexer": "ipython3",
   "version": "3.10.13"
  },
  "orig_nbformat": 4
 },
 "nbformat": 4,
 "nbformat_minor": 2
}
